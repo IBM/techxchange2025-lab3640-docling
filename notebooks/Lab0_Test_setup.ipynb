{
 "cells": [
  {
   "cell_type": "code",
   "execution_count": null,
   "id": "cb82c2bb",
   "metadata": {},
   "outputs": [],
   "source": [
    "import httpx\n",
    "from rich.console import Console\n",
    "console = Console()"
   ]
  },
  {
   "cell_type": "code",
   "execution_count": null,
   "id": "d2b7c159",
   "metadata": {},
   "outputs": [],
   "source": [
    "r = httpx.post(\n",
    "    \"http://localhost:4000/chat/completions\",\n",
    "    json={\n",
    "        \"model\": \"gpt-oss-120b\",\n",
    "        \"messages\": [\n",
    "            {\n",
    "                \"role\": \"user\",\n",
    "                \"content\": \"Describe the Docling project in one sentence?\"\n",
    "            }\n",
    "        ]\n",
    "    },\n",
    "    timeout=60,\n",
    ")"
   ]
  },
  {
   "cell_type": "code",
   "execution_count": null,
   "id": "247a453a",
   "metadata": {},
   "outputs": [],
   "source": [
    "msg = r.json()[\"choices\"][0][\"message\"][\"content\"]\n",
    "console.print(f\"[cyan]Assistant:[/cyan]\\n{msg}\")"
   ]
  }
 ],
 "metadata": {
  "kernelspec": {
   "display_name": "techxchange2025-lab3640-docling",
   "language": "python",
   "name": "python3"
  },
  "language_info": {
   "codemirror_mode": {
    "name": "ipython",
    "version": 3
   },
   "file_extension": ".py",
   "mimetype": "text/x-python",
   "name": "python",
   "nbconvert_exporter": "python",
   "pygments_lexer": "ipython3",
   "version": "3.12.9"
  }
 },
 "nbformat": 4,
 "nbformat_minor": 5
}
