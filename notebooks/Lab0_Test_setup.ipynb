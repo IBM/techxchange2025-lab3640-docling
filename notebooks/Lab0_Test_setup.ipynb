{
 "cells": [
  {
   "cell_type": "code",
   "execution_count": null,
   "id": "cb82c2bb",
   "metadata": {},
   "outputs": [],
   "source": [
    "import httpx\n",
    "from rich.console import Console\n",
    "console = Console()"
   ]
  },
  {
   "cell_type": "code",
   "execution_count": 3,
   "id": "d2b7c159",
   "metadata": {},
   "outputs": [],
   "source": [
    "r = httpx.post(\n",
    "    \"http://localhost:4000/chat/completions\",\n",
    "    json={\n",
    "        \"model\": \"gpt-oss-120b\",\n",
    "        \"messages\": [\n",
    "            {\n",
    "                \"role\": \"user\",\n",
    "                \"content\": \"Describe the Docling project in one sentence?\"\n",
    "            }\n",
    "        ]\n",
    "    },\n",
    "    timeout=60,\n",
    ")"
   ]
  },
  {
   "cell_type": "code",
   "execution_count": 11,
   "id": "247a453a",
   "metadata": {},
   "outputs": [
    {
     "data": {
      "text/html": [
       "<pre style=\"white-space:pre;overflow-x:auto;line-height:normal;font-family:Menlo,'DejaVu Sans Mono',consolas,'Courier New',monospace\"><span style=\"color: #008080; text-decoration-color: #008080\">Assistant:</span>\n",
       "Docling is an open‑source, extensible Python library that converts diverse document formats <span style=\"font-weight: bold\">(</span>PDF, DOCX, scanned \n",
       "images, etc.<span style=\"font-weight: bold\">)</span> into structured, searchable JSON representations for downstream AI, NLP, and data‑extraction \n",
       "workflows.\n",
       "</pre>\n"
      ],
      "text/plain": [
       "\u001b[36mAssistant:\u001b[0m\n",
       "Docling is an open‑source, extensible Python library that converts diverse document formats \u001b[1m(\u001b[0mPDF, DOCX, scanned \n",
       "images, etc.\u001b[1m)\u001b[0m into structured, searchable JSON representations for downstream AI, NLP, and data‑extraction \n",
       "workflows.\n"
      ]
     },
     "metadata": {},
     "output_type": "display_data"
    }
   ],
   "source": [
    "msg = r.json()[\"choices\"][0][\"message\"][\"content\"]\n",
    "console.print(f\"[cyan]Assistant:[/cyan]\\n{msg}\")"
   ]
  },
  {
   "cell_type": "code",
   "execution_count": null,
   "id": "05f30216",
   "metadata": {},
   "outputs": [],
   "source": []
  }
 ],
 "metadata": {
  "kernelspec": {
   "display_name": "techxchange2025-lab3640-docling",
   "language": "python",
   "name": "python3"
  },
  "language_info": {
   "codemirror_mode": {
    "name": "ipython",
    "version": 3
   },
   "file_extension": ".py",
   "mimetype": "text/x-python",
   "name": "python",
   "nbconvert_exporter": "python",
   "pygments_lexer": "ipython3",
   "version": "3.12.9"
  }
 },
 "nbformat": 4,
 "nbformat_minor": 5
}
