{
 "cells": [
  {
   "cell_type": "markdown",
   "id": "bccb6e4d",
   "metadata": {},
   "source": [
    "# Agentic AI with Docling as MCP tool"
   ]
  },
  {
   "cell_type": "markdown",
   "id": "43266224",
   "metadata": {},
   "source": [
    "### Overview\n",
    "\n",
    "In this lab, we will introduce **Docling MCP**, a service that provides tools for document conversion, processing, and generation. It also has extensions for leveraging popular agentic frameworks.\n",
    "\n",
    "It uses the Docling library to convert PDF documents into structured formats and provides a caching mechanism to improve performance. The service exposes functionality through a set of tools that can be called by client applications."
   ]
  },
  {
   "cell_type": "markdown",
   "id": "917c4bb8",
   "metadata": {},
   "source": [
    "---\n"
   ]
  },
  {
   "cell_type": "markdown",
   "id": "9cd21e20",
   "metadata": {},
   "source": [
    "### Technologies We'll Use\n",
    "\n",
    "Building on our previous labs, we will leverage:\n",
    "\n",
    "1. **[Docling](https://docling-project.github.io/docling/):** An open-source toolkit used to parse and convert documents.\n",
    "2. **[MCP](https://modelcontextprotocol.io)**: The model context protocol for creating a tool.\n",
    "3. **[Llama Stack](https://llama-stack.readthedocs.io/)**: Backend for building generative AI applications exposing standard APIs.\n",
    "4. **[OpenAI Agents SDK](https://openai.github.io/openai-agents-python/)**: A lightweight framework for building agentic AI apps."
   ]
  },
  {
   "cell_type": "markdown",
   "id": "12622cca",
   "metadata": {},
   "source": [
    "---"
   ]
  },
  {
   "cell_type": "markdown",
   "id": "8e0db4ad",
   "metadata": {},
   "source": [
    "#### Notebook dependencies\n",
    "\n",
    "Create a virtual environment to run this notebook, for instance, with [uv](https://docs.astral.sh/uv/), and install the necessary dependencies:"
   ]
  },
  {
   "cell_type": "code",
   "execution_count": 1,
   "id": "6405af77",
   "metadata": {},
   "outputs": [
    {
     "name": "stdout",
     "output_type": "stream",
     "text": [
      "\u001b[2mUsing Python 3.12.9 environment at: /Users/dol/projects/tx25/techxchange2025-lab3640-docling/.venv\u001b[0m\n",
      "\u001b[2mAudited \u001b[1m2 packages\u001b[0m \u001b[2min 7ms\u001b[0m\u001b[0m\n"
     ]
    }
   ],
   "source": [
    "!uv pip install llama-stack-client openai-agents"
   ]
  },
  {
   "cell_type": "markdown",
   "id": "5505cef5",
   "metadata": {},
   "source": [
    "Import the necessary classes and methods:"
   ]
  },
  {
   "cell_type": "code",
   "execution_count": 2,
   "id": "cd38b2cc",
   "metadata": {},
   "outputs": [],
   "source": [
    "import uuid\n",
    "import logging\n",
    "\n",
    "from rich.console import Console\n",
    "from rich.markdown import Markdown\n",
    "\n",
    "from agents import Agent, ModelSettings, Runner, SQLiteSession, set_trace_processors, set_tracing_disabled, ItemHelpers, FileSearchTool\n",
    "from agents.mcp import MCPServerStreamableHttp, ToolFilterStatic\n",
    "from agents.models.openai_provider import OpenAIProvider\n",
    "from agents.run import RunConfig\n",
    "from agents.items import ResponseFunctionToolCall, ResponseFileSearchToolCall\n",
    "from agents.tracing.processors import BatchTraceProcessor, ConsoleSpanExporter\n",
    "from openai import AsyncOpenAI\n",
    "from llama_stack_client import LlamaStackClient\n",
    "\n",
    "console = Console(width=100, soft_wrap=True)"
   ]
  },
  {
   "cell_type": "markdown",
   "id": "1017190a",
   "metadata": {},
   "source": [
    "Create the components that we will leverage for creating and running agents, from **Llama Stack** and **OpenAI Agents**.\n",
    "\n",
    "Note that in this example we will use the Meta Llama 3.3 70B language model, but you can experiment with other models."
   ]
  },
  {
   "cell_type": "code",
   "execution_count": 3,
   "id": "c1915319",
   "metadata": {},
   "outputs": [],
   "source": [
    "LLS_URL = \"http://localhost:8321\"\n",
    "BASE_URL = f\"{LLS_URL}/v1/openai/v1\"\n",
    "API_KEY = \"none\"\n",
    "# MODEL_ID = \"vllm/gpt-oss-120b\"\n",
    "MODEL_ID = \"vllm/llama-3-3-70b\"\n",
    "# MODEL_ID = \"vllm/Llama-4-Maverick\""
   ]
  },
  {
   "cell_type": "code",
   "execution_count": 4,
   "id": "9e714354",
   "metadata": {},
   "outputs": [],
   "source": [
    "# Llama Stack Client\n",
    "lls_client = LlamaStackClient(base_url=LLS_URL)\n",
    "\n",
    "# Model client\n",
    "client = AsyncOpenAI(base_url=BASE_URL, api_key=API_KEY)\n",
    "\n",
    "# Configure the OpenAI provider that uses our AsyncOpenAI client for Llama Stack\n",
    "provider = OpenAIProvider(openai_client=client)\n",
    "\n",
    "# Tell OpenAI to dump traces to the console\n",
    "set_tracing_disabled(True)\n",
    "set_trace_processors([BatchTraceProcessor(exporter=ConsoleSpanExporter())])\n",
    "\n",
    "# Setup quite logging\n",
    "logging.getLogger(\"openai.agents\").setLevel(logging.WARNING)\n",
    "logging.getLogger(\"httpx\").setLevel(logging.WARNING)\n",
    "logging.getLogger(\"httpcore\").setLevel(logging.WARNING)\n"
   ]
  },
  {
   "cell_type": "code",
   "execution_count": 5,
   "id": "58094489",
   "metadata": {},
   "outputs": [],
   "source": [
    "instructions=\"\"\"You are an assistant that uses external tools.  \n",
    "Follow these rules strictly:\n",
    "\n",
    "1. At each reasoning step, you may call **at most one tool**.  \n",
    "2. If you need to use multiple tools, do it sequentially:  \n",
    "   - Call exactly one tool.  \n",
    "   - Wait for its result.  \n",
    "   - Then think again and, if needed, call another tool.  \n",
    "3. Never call two or more tools in the same response.  \n",
    "4. If no tool is needed, just provide your reasoning or final answer.  \n",
    "5. Treat a missing tool result as blocking — do not continue reasoning until you receive the output.\n",
    "\n",
    "If you ever attempt to call more than one tool at once, your answer will be rejected.  \n",
    "Always restrict yourself to **zero or one tool call per response**.\n",
    "\n",
    "When the tools return a base64 image, simply create some markdown wrapper which allows to display it and take special care in not hallucinating any byte.\n",
    "\"\"\""
   ]
  },
  {
   "cell_type": "markdown",
   "id": "f4d7be7e",
   "metadata": {},
   "source": [
    "### Agent definition\n",
    "\n",
    "In the following block we define the Document Agent with the following settings:\n",
    "\n",
    "1. Connection to the Docling MCP server.\n",
    "2. Selection of the tools to use in Docling.\n",
    "3. (Optional) Any additional tools, such as the built-in File Search.\n",
    "\n",
    "The `run_agent()` method will be called in the use cases below with different user prompts and tools."
   ]
  },
  {
   "cell_type": "code",
   "execution_count": null,
   "id": "ba4cbace",
   "metadata": {},
   "outputs": [],
   "source": [
    "async def run_agent(queries: list[str]=[], extra_tools: list[str]=[], allowed_tools: list[str]=[]):\n",
    "    async with MCPServerStreamableHttp(\n",
    "        name=\"Docling MCP\",\n",
    "        params={\n",
    "            \"url\": \"http://localhost:8000/mcp\",\n",
    "            \"timeout\": 180.0,\n",
    "        },\n",
    "        client_session_timeout_seconds=180,\n",
    "        tool_filter=ToolFilterStatic(allowed_tool_names=allowed_tools) if allowed_tools else None,\n",
    "    ) as server:\n",
    "        agent = Agent(\n",
    "            name=\"Document Agent\",\n",
    "            model=MODEL_ID,\n",
    "            instructions=instructions,\n",
    "            model_settings=ModelSettings(\n",
    "                temperature=0, top_p=0.9,\n",
    "                parallel_tool_calls=False,\n",
    "                tool_choice=\"required\",\n",
    "            ),\n",
    "            mcp_servers=[server],\n",
    "            tools=extra_tools,\n",
    "        )\n",
    "        session = SQLiteSession(str(uuid.uuid4()))\n",
    "        print(f\"Created session_id={session.session_id} for Agent({agent.name})\")\n",
    "\n",
    "        # user_queries = [instructions, *queries]\n",
    "        user_queries = queries\n",
    "\n",
    "        for prompt in user_queries:\n",
    "            console.print(f\"[cyan]👤 User> {prompt}[/cyan]\")\n",
    "            # Launch the agent runner\n",
    "            result = Runner.run_streamed(\n",
    "                agent,\n",
    "                prompt,\n",
    "                session=session,\n",
    "                run_config=RunConfig(model_provider=provider),\n",
    "            )\n",
    "\n",
    "            # Print the events as they appear from the agent stream\n",
    "            async for event in result.stream_events():\n",
    "                # We'll ignore the raw responses event deltas\n",
    "                if event.type == \"raw_response_event\":\n",
    "                    continue\n",
    "                # When the agent updates, print that\n",
    "                elif event.type == \"agent_updated_stream_event\":\n",
    "                    console.print(f\"Agent updated: {event.new_agent.name}\")\n",
    "                    continue\n",
    "                # When items are generated, print them\n",
    "                elif event.type == \"run_item_stream_event\":\n",
    "                    if event.item.type == \"tool_call_item\":\n",
    "                        raw_item = event.item.raw_item\n",
    "                        if isinstance(raw_item, ResponseFunctionToolCall):\n",
    "                            console.print(f\"[yellow]-- Tool was called: {raw_item.name}({raw_item.arguments.strip()})[/yellow]\")\n",
    "                    elif event.item.type == \"tool_call_output_item\":\n",
    "                        console.print(f\"[yellow]-- Tool output: {event.item.output}[/yellow]\")\n",
    "                    elif event.item.type == \"message_output_item\":\n",
    "                        md = Markdown(ItemHelpers.text_message_output(event.item))\n",
    "                        console.print(\"[green]🤖 Assistant>[/green]\")\n",
    "                        console.print(md)\n",
    "                    else:\n",
    "                        print(f\"other event: {event.item.type}\")\n",
    "                        pass  # Ignore other event types\n"
   ]
  },
  {
   "cell_type": "markdown",
   "id": "57c5513e",
   "metadata": {},
   "source": [
    "---"
   ]
  },
  {
   "cell_type": "markdown",
   "id": "9e04d63c",
   "metadata": {},
   "source": [
    "## 1. Interact with documents\n",
    "\n",
    "In this part of the lab, you will use the agent you just built to work with existing documents. The agent leverages both the reasoning capabilities of the LLM and the Docling MCP tools to interpret, process, and retrieve document content."
   ]
  },
  {
   "cell_type": "markdown",
   "id": "3f577fda",
   "metadata": {},
   "source": [
    "### Document conversion and exports\n",
    "\n",
    "The Docling MCP tool allows to convert documents and return their content to the agent model for reasoning about it.\n",
    "A classic use case is **document summarization**."
   ]
  },
  {
   "cell_type": "code",
   "execution_count": 7,
   "id": "19ec6610",
   "metadata": {},
   "outputs": [
    {
     "name": "stderr",
     "output_type": "stream",
     "text": [
      "INFO:mcp.client.streamable_http:Received session ID: 1d6cc25d04a44dc886b73617dddf1ce4\n",
      "INFO:mcp.client.streamable_http:Negotiated protocol version: 2025-06-18\n"
     ]
    },
    {
     "name": "stdout",
     "output_type": "stream",
     "text": [
      "Created session_id=45d60d37-e8e6-4ace-b05f-5c0629e851ff for Agent(Document Agent)\n"
     ]
    },
    {
     "data": {
      "text/html": [
       "<pre style=\"white-space:pre;overflow-x:auto;line-height:normal;font-family:Menlo,'DejaVu Sans Mono',consolas,'Courier New',monospace\"><span style=\"color: #008080; text-decoration-color: #008080\">👤 User&gt; Convert the document on </span><span style=\"color: #008080; text-decoration-color: #008080; text-decoration: underline\">https://arxiv.org/pdf/2408.09869</span><span style=\"color: #008080; text-decoration-color: #008080\"> and give me a summary of the document from its markdown content.</span>\n",
       "</pre>\n"
      ],
      "text/plain": [
       "\u001b[36m👤 User> Convert the document on \u001b[0m\u001b[4;36mhttps://arxiv.org/pdf/2408.09869\u001b[0m\u001b[36m and give me a summary of the document from its markdown content.\u001b[0m\n"
      ]
     },
     "metadata": {},
     "output_type": "display_data"
    },
    {
     "data": {
      "text/html": [
       "<pre style=\"white-space:pre;overflow-x:auto;line-height:normal;font-family:Menlo,'DejaVu Sans Mono',consolas,'Courier New',monospace\">Agent updated: Document Agent\n",
       "</pre>\n"
      ],
      "text/plain": [
       "Agent updated: Document Agent\n"
      ]
     },
     "metadata": {},
     "output_type": "display_data"
    },
    {
     "data": {
      "text/html": [
       "<pre style=\"white-space:pre;overflow-x:auto;line-height:normal;font-family:Menlo,'DejaVu Sans Mono',consolas,'Courier New',monospace\"><span style=\"color: #808000; text-decoration-color: #808000\">-- Tool was called: </span><span style=\"color: #808000; text-decoration-color: #808000; font-weight: bold\">convert_document_into_docling_document({</span><span style=\"color: #808000; text-decoration-color: #808000\">\"source\"</span><span style=\"color: #808000; text-decoration-color: #808000\">: </span><span style=\"color: #808000; text-decoration-color: #808000\">\"https://arxiv.org/pdf/2408.09869\"</span><span style=\"color: #808000; text-decoration-color: #808000; font-weight: bold\">})</span>\n",
       "</pre>\n"
      ],
      "text/plain": [
       "\u001b[33m-- Tool was called: \u001b[0m\u001b[1;33mconvert_document_into_docling_document\u001b[0m\u001b[1;33m(\u001b[0m\u001b[1;33m{\u001b[0m\u001b[33m\"source\"\u001b[0m\u001b[33m: \u001b[0m\u001b[33m\"https://arxiv.org/pdf/2408.09869\"\u001b[0m\u001b[1;33m}\u001b[0m\u001b[1;33m)\u001b[0m\n"
      ]
     },
     "metadata": {},
     "output_type": "display_data"
    },
    {
     "data": {
      "text/html": [
       "<pre style=\"white-space:pre;overflow-x:auto;line-height:normal;font-family:Menlo,'DejaVu Sans Mono',consolas,'Courier New',monospace\"><span style=\"color: #808000; text-decoration-color: #808000\">-- Tool output: </span><span style=\"color: #808000; text-decoration-color: #808000; font-weight: bold\">{</span><span style=\"color: #808000; text-decoration-color: #808000\">\"type\"</span><span style=\"color: #808000; text-decoration-color: #808000\">:</span><span style=\"color: #808000; text-decoration-color: #808000\">\"text\"</span><span style=\"color: #808000; text-decoration-color: #808000\">,</span><span style=\"color: #808000; text-decoration-color: #808000\">\"text\"</span><span style=\"color: #808000; text-decoration-color: #808000\">:</span><span style=\"color: #808000; text-decoration-color: #808000\">\"{\\n  \\\"from_cache\\\": true,\\n  \\\"document_key\\\": \\\"a66148ddcb5e4522d218e89ea3276db2\\\"\\n}\"</span><span style=\"color: #808000; text-decoration-color: #808000\">,</span><span style=\"color: #808000; text-decoration-color: #808000\">\"annotations\"</span><span style=\"color: #808000; text-decoration-color: #808000\">:null,</span><span style=\"color: #808000; text-decoration-color: #808000\">\"meta\"</span><span style=\"color: #808000; text-decoration-color: #808000\">:null</span><span style=\"color: #808000; text-decoration-color: #808000; font-weight: bold\">}</span>\n",
       "</pre>\n"
      ],
      "text/plain": [
       "\u001b[33m-- Tool output: \u001b[0m\u001b[1;33m{\u001b[0m\u001b[33m\"type\"\u001b[0m\u001b[33m:\u001b[0m\u001b[33m\"text\"\u001b[0m\u001b[33m,\u001b[0m\u001b[33m\"text\"\u001b[0m\u001b[33m:\u001b[0m\u001b[33m\"\u001b[0m\u001b[33m{\u001b[0m\u001b[33m\\n  \\\"from_cache\\\": true,\\n  \\\"document_key\\\": \\\"a66148ddcb5e4522d218e89ea3276db2\\\"\\n\u001b[0m\u001b[33m}\u001b[0m\u001b[33m\"\u001b[0m\u001b[33m,\u001b[0m\u001b[33m\"annotations\"\u001b[0m\u001b[33m:null,\u001b[0m\u001b[33m\"meta\"\u001b[0m\u001b[33m:null\u001b[0m\u001b[1;33m}\u001b[0m\n"
      ]
     },
     "metadata": {},
     "output_type": "display_data"
    },
    {
     "data": {
      "text/html": [
       "<pre style=\"white-space:pre;overflow-x:auto;line-height:normal;font-family:Menlo,'DejaVu Sans Mono',consolas,'Courier New',monospace\"><span style=\"color: #808000; text-decoration-color: #808000\">-- Tool was called: </span><span style=\"color: #808000; text-decoration-color: #808000; font-weight: bold\">export_docling_document_to_markdown({</span><span style=\"color: #808000; text-decoration-color: #808000\">\"document_key\"</span><span style=\"color: #808000; text-decoration-color: #808000\">: </span><span style=\"color: #808000; text-decoration-color: #808000\">\"a66148ddcb5e4522d218e89ea3276db2\"</span><span style=\"color: #808000; text-decoration-color: #808000; font-weight: bold\">})</span>\n",
       "</pre>\n"
      ],
      "text/plain": [
       "\u001b[33m-- Tool was called: \u001b[0m\u001b[1;33mexport_docling_document_to_markdown\u001b[0m\u001b[1;33m(\u001b[0m\u001b[1;33m{\u001b[0m\u001b[33m\"document_key\"\u001b[0m\u001b[33m: \u001b[0m\u001b[33m\"a66148ddcb5e4522d218e89ea3276db2\"\u001b[0m\u001b[1;33m}\u001b[0m\u001b[1;33m)\u001b[0m\n"
      ]
     },
     "metadata": {},
     "output_type": "display_data"
    },
    {
     "data": {
      "text/html": [
       "<pre style=\"white-space:pre;overflow-x:auto;line-height:normal;font-family:Menlo,'DejaVu Sans Mono',consolas,'Courier New',monospace\"><span style=\"color: #808000; text-decoration-color: #808000\">-- Tool output: </span><span style=\"color: #808000; text-decoration-color: #808000; font-weight: bold\">{</span><span style=\"color: #808000; text-decoration-color: #808000\">\"type\"</span><span style=\"color: #808000; text-decoration-color: #808000\">:</span><span style=\"color: #808000; text-decoration-color: #808000\">\"text\"</span><span style=\"color: #808000; text-decoration-color: #808000\">,</span><span style=\"color: #808000; text-decoration-color: #808000\">\"text\"</span><span style=\"color: #808000; text-decoration-color: #808000\">:</span><span style=\"color: #808000; text-decoration-color: #808000\">\"{\\n  \\\"document_key\\\": \\\"a66148ddcb5e4522d218e89ea3276db2\\\",\\n  \\\"markdown\\\": \\\"&lt;!-- image --&gt;\\\\n\\\\n## Docling Technical Report\\\\n\\\\n## Version 1.0\\\\n\\\\nChristoph Auer Maksym Lysak Ahmed Nassar Michele Dolfi Nikolaos Livathinos Panos Vagenas Cesar Berrospi Ramis Matteo Omenetti Fabian Lindlbauer Kasper Dinkla Lokesh Mishra Yusik Kim Shubham Gupta Rafael Teixeira de Lima Valery Weber Lucas Morin Ingmar Meijer Viktor Kuropiatnyk Peter W. J. Staar\\\\n\\\\nAI4K Group, IBM Research R¨ uschlikon, Switzerland\\\\n\\\\n## Abstract\\\\n\\\\nThis technical report introduces Docling , an easy to use, self-contained, MITlicensed open-source package for PDF document conversion. It is powered by state-of-the-art specialized AI models for layout analysis (DocLayNet) and table structure recognition (TableFormer), and runs efficiently on commodity hardware in a small resource budget. The code interface allows for easy extensibility and addition of new features and models.\\\\n\\\\n## 1 Introduction\\\\n\\\\nConverting PDF documents back into a machine-processable format has been a major challenge for decades due to their huge variability in formats, weak standardization and printing-optimized characteristic, which discards most structural features and metadata. With the advent of LLMs and popular application patterns such as retrieval-augmented generation (RAG), leveraging the rich content embedded in PDFs has become ever more relevant. In the past decade, several powerful document understanding solutions have emerged on the market, most of which are commercial software, cloud offerings [3] and most recently, multi-modal vision-language models. As of today, only a handful of open-source tools cover PDF conversion, leaving a significant feature and quality gap to proprietary solutions.\\\\n\\\\nWith Docling , we open-source a very capable and efficient document conversion tool which builds on the powerful, specialized AI models and datasets for layout analysis and table structure recognition we developed and presented in the recent past [12, 13, 9]. Docling is designed as a simple, self-contained python library with permissive license, running entirely locally on commodity hardware. Its code architecture allows for easy extensibility and addition of new features and models.\\\\n\\\\nHere is what Docling delivers today:\\\\n\\\\n- Converts PDF documents to JSON or Markdown format, stable and lightning fast\\\\n- Understands detailed page layout, reading order, locates figures and recovers table structures\\\\n- Extracts metadata from the document, such as title, authors, references and language\\\\n- Optionally applies OCR, e.g. for scanned PDFs\\\\n- Can be configured to be optimal for batch-mode (i.e high throughput, low time-to-solution) or interactive mode (compromise on efficiency, low time-to-solution)\\\\n- Can leverage different accelerators (GPU, MPS, etc).\\\\n\\\\n## 2 Getting Started\\\\n\\\\nTo use Docling, you can simply install the docling package from PyPI. Documentation and examples are available in our GitHub repository at github.com/DS4SD/docling. All required model assets 1 are downloaded to a local huggingface datasets cache on first use, unless you choose to pre-install the model assets in advance.\\\\n\\\\nDocling provides an easy code interface to convert PDF documents from file system, URLs or binary streams, and retrieve the output in either JSON or Markdown format. For convenience, separate methods are offered to convert single documents or batches of documents. A basic usage example is illustrated below. Further examples are available in the Doclign code repository.\\\\n\\\\nfrom docling.document\\\\\\\\_converter import DocumentConverter\\\\n\\\\n```\\\\nsource = \\\\\\\"https://arxiv.org/pdf/2206.01062\\\\\\\" # PDF path or URL converter = DocumentConverter() result = converter.convert_single(source) print(result.render_as_markdown()) # output: \\\\\\\"## DocLayNet: A Large Human -Annotated Dataset for Document -Layout Analysis [...]\\\\\\\"\\\\n```\\\\n\\\\nOptionally, you can configure custom pipeline features and runtime options, such as turning on or off features (e.g. OCR, table structure recognition), enforcing limits on the input document size, and defining the budget of CPU threads. Advanced usage examples and options are documented in the README file. Docling also provides a Dockerfile to demonstrate how to install and run it inside a container.\\\\n\\\\n## 3 Processing pipeline\\\\n\\\\nDocling implements a linear pipeline of operations, which execute sequentially on each given document (see Fig. 1). Each document is first parsed by a PDF backend, which retrieves the programmatic text tokens, consisting of string content and its coordinates on the page, and also renders a bitmap image of each page to support downstream operations. Then, the standard model pipeline applies a sequence of AI models independently on every page in the document to extract features and content, such as layout and table structures. Finally, the results from all pages are aggregated and passed through a post-processing stage, which augments metadata, detects the document language, infers reading-order and eventually assembles a typed document object which can be serialized to JSON or Markdown.\\\\n\\\\n## 3.1 PDF backends\\\\n\\\\nTwo basic requirements to process PDF documents in our pipeline are a) to retrieve all text content and their geometric coordinates on each page and b) to render the visual representation of each page as it would appear in a PDF viewer. Both these requirements are encapsulated in Docling's PDF backend interface. While there are several open-source PDF parsing libraries available for python, we faced major obstacles with all of them for different reasons, among which were restrictive\\\\n\\\\n1 see huggingface.co/ds4sd/docling-models/\\\\n\\\\nFigure 1: Sketch of Docling's default processing pipeline. The inner part of the model pipeline is easily customizable and extensible.\\\\n\\\\n&lt;!-- image --&gt;\\\\n\\\\nlicensing (e.g. pymupdf [7]), poor speed or unrecoverable quality issues, such as merged text cells across far-apart text tokens or table columns (pypdfium, PyPDF) [15, 14].\\\\n\\\\nWe therefore decided to provide multiple backend choices, and additionally open-source a custombuilt PDF parser, which is based on the low-level qpdf [4] library. It is made available in a separate package named docling-parse and powers the default PDF backend in Docling. As an alternative, we provide a PDF backend relying on pypdfium , which may be a safe backup choice in certain cases, e.g. if issues are seen with particular font encodings.\\\\n\\\\n## 3.2 AI models\\\\n\\\\nAs part of Docling, we initially release two highly capable AI models to the open-source community, which have been developed and published recently by our team. The first model is a layout analysis model, an accurate object-detector for page elements [13]. The second model is TableFormer [12, 9], a state-of-the-art table structure recognition model. We provide the pre-trained weights (hosted on huggingface) and a separate package for the inference code as docling-ibm-models . Both models are also powering the open-access deepsearch-experience, our cloud-native service for knowledge exploration tasks.\\\\n\\\\n## Layout Analysis Model\\\\n\\\\nOur layout analysis model is an object-detector which predicts the bounding-boxes and classes of various elements on the image of a given page. Its architecture is derived from RT-DETR [16] and re-trained on DocLayNet [13], our popular human-annotated dataset for document-layout analysis, among other proprietary datasets. For inference, our implementation relies on the onnxruntime [5].\\\\n\\\\nThe Docling pipeline feeds page images at 72 dpi resolution, which can be processed on a single CPU with sub-second latency. All predicted bounding-box proposals for document elements are post-processed to remove overlapping proposals based on confidence and size, and then intersected with the text tokens in the PDF to group them into meaningful and complete units such as paragraphs, section titles, list items, captions, figures or tables.\\\\n\\\\n## Table Structure Recognition\\\\n\\\\nThe TableFormer model [12], first published in 2022 and since refined with a custom structure token language [9], is a vision-transformer model for table structure recovery. It can predict the logical row and column structure of a given table based on an input image, and determine which table cells belong to column headers, row headers or the table body. Compared to earlier approaches, TableFormer handles many characteristics of tables, such as partial or no borderlines, empty cells, rows or columns, cell spans and hierarchy both on column-heading or row-heading level, tables with inconsistent indentation or alignment and other complexities. For inference, our implementation relies on PyTorch [2].\\\\n\\\\nThe Docling pipeline feeds all table objects detected in the layout analysis to the TableFormer model, by providing an image-crop of the table and the included text cells. TableFormer structure predictions are matched back to the PDF cells in post-processing to avoid expensive re-transcription text in the table image. Typical tables require between 2 and 6 seconds to be processed on a standard CPU, strongly depending on the amount of included table cells.\\\\n\\\\n## OCR\\\\n\\\\nDocling provides optional support for OCR, for example to cover scanned PDFs or content in bitmaps images embedded on a page. In our initial release, we rely on EasyOCR [1], a popular thirdparty OCR library with support for many languages. Docling, by default, feeds a high-resolution page image (216 dpi) to the OCR engine, to allow capturing small print detail in decent quality. While EasyOCR delivers reasonable transcription quality, we observe that it runs fairly slow on CPU (upwards of 30 seconds per page).\\\\n\\\\nWe are actively seeking collaboration from the open-source community to extend Docling with additional OCR backends and speed improvements.\\\\n\\\\n## 3.3 Assembly\\\\n\\\\nIn the final pipeline stage, Docling assembles all prediction results produced on each page into a well-defined datatype that encapsulates a converted document, as defined in the auxiliary package docling-core . The generated document object is passed through a post-processing model which leverages several algorithms to augment features, such as detection of the document language, correcting the reading order, matching figures with captions and labelling metadata such as title, authors and references. The final output can then be serialized to JSON or transformed into a Markdown representation at the users request.\\\\n\\\\n## 3.4 Extensibility\\\\n\\\\nDocling provides a straight-forward interface to extend its capabilities, namely the model pipeline. A model pipeline constitutes the central part in the processing, following initial document parsing and preceding output assembly, and can be fully customized by sub-classing from an abstract baseclass ( BaseModelPipeline ) or cloning the default model pipeline. This effectively allows to fully customize the chain of models, add or replace models, and introduce additional pipeline configuration parameters. To use a custom model pipeline, the custom pipeline class to instantiate can be provided as an argument to the main document conversion methods. We invite everyone in the community to propose additional or alternative models and improvements.\\\\n\\\\nImplementations of model classes must satisfy the python Callable interface. The \\\\\\\\_\\\\\\\\_call\\\\\\\\_\\\\\\\\_ method must accept an iterator over page objects, and produce another iterator over the page objects which were augmented with the additional features predicted by the model, by extending the provided PagePredictions data model accordingly.\\\\n\\\\n## 4 Performance\\\\n\\\\nIn this section, we establish some reference numbers for the processing speed of Docling and the resource budget it requires. All tests in this section are run with default options on our standard test set distributed with Docling, which consists of three papers from arXiv and two IBM Redbooks, with a total of 225 pages. Measurements were taken using both available PDF backends on two different hardware systems: one MacBook Pro M3 Max, and one bare-metal server running Ubuntu 20.04 LTS on an Intel Xeon E5-2690 CPU. For reproducibility, we fixed the thread budget (through setting OMP NUM THREADS environment variable ) once to 4 (Docling default) and once to 16 (equal to full core count on the test hardware). All results are shown in Table 1.\\\\n\\\\nIf you need to run Docling in very low-resource environments, please consider configuring the pypdfium backend. While it is faster and more memory efficient than the default docling-parse backend, it will come at the expense of worse quality results, especially in table structure recovery.\\\\n\\\\nEstablishing GPU acceleration support for the AI models is currently work-in-progress and largely untested, but may work implicitly when CUDA is available and discovered by the onnxruntime and\\\\n\\\\ntorch runtimes backing the Docling pipeline. We will deliver updates on this topic at in a future version of this report.\\\\n\\\\nTable 1: Runtime characteristics of Docling with the standard model pipeline and settings, on our test dataset of 225 pages, on two different systems. OCR is disabled. We show the time-to-solution (TTS), computed throughput in pages per second, and the peak memory used (resident set size) for both the Docling-native PDF backend and for the pypdfium backend, using 4 and 16 threads.\\\\n\\\\n| CPU                     | Thread budget   | native backend   | native backend   | native backend   | pypdfium backend   | pypdfium backend   | pypdfium backend   |\\\\n|-------------------------|-----------------|------------------|------------------|------------------|--------------------|--------------------|--------------------|\\\\n|                         |                 | TTS              | Pages/s          | Mem              | TTS                | Pages/s            | Mem                |\\\\n| Apple M3 Max (16 cores) | 4 16            | 177 s 167 s      | 1.27 1.34        | 6.20 GB          | 103 s 92 s         | 2.18 2.45          | 2.56 GB            |\\\\n| Intel(R) Xeon E5-2690   | 4 16            | 375 s 244 s      | 0.60 0.92        | 6.16 GB          | 239 s 143 s        | 0.94 1.57          | 2.42 GB            |\\\\n\\\\n## 5 Applications\\\\n\\\\nThanks to the high-quality, richly structured document conversion achieved by Docling, its output qualifies for numerous downstream applications. For example, Docling can provide a base for detailed enterprise document search, passage retrieval or classification use-cases, or support knowledge extraction pipelines, allowing specific treatment of different structures in the document, such as tables, figures, section structure or references. For popular generative AI application patterns, such as retrieval-augmented generation (RAG), we provide quackling , an open-source package which capitalizes on Docling's feature-rich document output to enable document-native optimized vector embedding and chunking. It plugs in seamlessly with LLM frameworks such as LlamaIndex [8]. Since Docling is fast, stable and cheap to run, it also makes for an excellent choice to build document-derived datasets. With its powerful table structure recognition, it provides significant benefit to automated knowledge-base construction [11, 10]. Docling is also integrated within the open IBM data prep kit [6], which implements scalable data transforms to build large-scale multi-modal training datasets.\\\\n\\\\n## 6 Future work and contributions\\\\n\\\\nDocling is designed to allow easy extension of the model library and pipelines. In the future, we plan to extend Docling with several more models, such as a figure-classifier model, an equationrecognition model, a code-recognition model and more. This will help improve the quality of conversion for specific types of content, as well as augment extracted document metadata with additional information. Further investment into testing and optimizing GPU acceleration as well as improving the Docling-native PDF backend are on our roadmap, too.\\\\n\\\\nWe encourage everyone to propose or implement additional features and models, and will gladly take your inputs and contributions under review . The codebase of Docling is open for use and contribution, under the MIT license agreement and in alignment with our contributing guidelines included in the Docling repository. If you use Docling in your projects, please consider citing this technical report.\\\\n\\\\n## References\\\\n\\\\n- [1] J. AI. Easyocr: Ready-to-use ocr with 80+ supported languages. https://github.com/ JaidedAI/EasyOCR , 2024. Version: 1.7.0.\\\\n- [2] J. Ansel, E. Yang, H. He, N. Gimelshein, A. Jain, M. Voznesensky, B. Bao, P. Bell, D. Berard, E. Burovski, G. Chauhan, A. Chourdia, W. Constable, A. Desmaison, Z. DeVito, E. Ellison, W. Feng, J. Gong, M. Gschwind, B. Hirsh, S. Huang, K. Kalambarkar, L. Kirsch, M. Lazos, M. Lezcano, Y. Liang, J. Liang, Y. Lu, C. Luk, B. Maher, Y. Pan, C. Puhrsch, M. Reso, M. Saroufim, M. Y. Siraichi, H. Suk, M. Suo, P. Tillet, E. Wang, X. Wang, W. Wen, S. Zhang, X. Zhao, K. Zhou, R. Zou, A. Mathews, G. Chanan, P. Wu, and S. Chintala. Pytorch 2: Faster\\\\n\\\\nmachine learning through dynamic python bytecode transformation and graph compilation. In Proceedings of the 29th ACM International Conference on Architectural Support for Programming Languages and Operating Systems, Volume 2 (ASPLOS '24) . ACM, 4 2024. doi: 10.1145/3620665.3640366. URL https://pytorch.org/assets/pytorch2-2.pdf .\\\\n\\\\n- [3] C. Auer, M. Dolfi, A. Carvalho, C. B. Ramis, and P. W. Staar. Delivering document conversion as a cloud service with high throughput and responsiveness. In 2022 IEEE 15th International Conference on Cloud Computing (CLOUD) , pages 363-373. IEEE, 2022.\\\\n- [4] J. Berkenbilt. Qpdf: A content-preserving pdf document transformer, 2024. URL https: //github.com/qpdf/qpdf .\\\\n- [5] O. R. developers. Onnx runtime. https://onnxruntime.ai/ , 2024. Version: 1.18.1.\\\\n- [6] IBM. Data Prep Kit: a community project to democratize and accelerate unstructured data preparation for LLM app developers, 2024. URL https://github.com/IBM/ data-prep-kit .\\\\n- [7] A. S. Inc. PyMuPDF, 2024. URL https://github.com/pymupdf/PyMuPDF .\\\\n- [8] J. Liu. LlamaIndex, 11 2022. URL https://github.com/jerryjliu/llama\\\\\\\\_index .\\\\n- [9] M. Lysak, A. Nassar, N. Livathinos, C. Auer, and P. Staar. Optimized Table Tokenization for Table Structure Recognition. In Document Analysis and Recognition - ICDAR 2023: 17th International Conference, San Jos´ e, CA, USA, August 21-26, 2023, Proceedings, Part II , pages 37-50, Berlin, Heidelberg, Aug. 2023. Springer-Verlag. ISBN 978-3-031-41678-1. doi: 10. 1007/978-3-031-41679-8 3. URL https://doi.org/10.1007/978-3-031-41679-8\\\\\\\\_3 .\\\\n- [10] L. Mishra, S. Dhibi, Y. Kim, C. Berrospi Ramis, S. Gupta, M. Dolfi, and P. Staar. Statements: Universal information extraction from tables with large language models for ESG KPIs. In D. Stammbach, J. Ni, T. Schimanski, K. Dutia, A. Singh, J. Bingler, C. Christiaen, N. Kushwaha, V. Muccione, S. A. Vaghefi, and M. Leippold, editors, Proceedings of the 1st Workshop on Natural Language Processing Meets Climate Change (ClimateNLP 2024) , pages 193-214, Bangkok, Thailand, Aug. 2024. Association for Computational Linguistics. URL https://aclanthology.org/2024.climatenlp-1.15 .\\\\n- [11] L. Morin, V. Weber, G. I. Meijer, F. Yu, and P. W. J. Staar. Patcid: an open-access dataset of chemical structures in patent documents. Nature Communications , 15(1):6532, August 2024. ISSN 2041-1723. doi: 10.1038/s41467-024-50779-y. URL https://doi.org/10.1038/ s41467-024-50779-y .\\\\n- [12] A. Nassar, N. Livathinos, M. Lysak, and P. Staar. Tableformer: Table structure understanding with transformers. In Proceedings of the IEEE/CVF Conference on Computer Vision and Pattern Recognition , pages 4614-4623, 2022.\\\\n- [13] B. Pfitzmann, C. Auer, M. Dolfi, A. S. Nassar, and P. Staar. Doclaynet: a large humanannotated dataset for document-layout segmentation. pages 3743-3751, 2022.\\\\n- [14] pypdf Maintainers. pypdf: A Pure-Python PDF Library, 2024. URL https://github.com/ py-pdf/pypdf .\\\\n- [15] P. Team. PyPDFium2: Python bindings for PDFium, 2024. URL https://github.com/ pypdfium2-team/pypdfium2 .\\\\n- [16] Y. Zhao, W. Lv, S. Xu, J. Wei, G. Wang, Q. Dang, Y. Liu, and J. Chen. Detrs beat yolos on real-time object detection, 2023.\\\\n\\\\n## Appendix\\\\n\\\\nIn this section, we illustrate a few examples of Docling's output in Markdown and JSON.\\\\n\\\\n&lt;!-- image --&gt;\\\\n\\\\n1 INTRODUCTION\\\\n\\\\nDespite the substantial improvements achieved with machine-learning (ML) approaches and deep neural networks in recent years, document conversion remains a challenging problem, as demonstrated by the numerous public competitions held on this topic [1-4]. The challenge originates from the huge variability in PDF documents regarding layout, language and formats (scanned, programmatic or a combination of both). Engineering a single ML model that can be applied on all types of documents and provides high-quality layout segmentation remains to this day extremely challenging [5]. To highlight the variability in document layouts, we show a few example documents from the DocLayNet dataset in Figure 1. Figure 2: Title page of the DocLayNet paper (arxiv.org/pdf/2206.01062) - left PDF, right rendered Markdown. If recognized, metadata such as authors are appearing first under the title. Text content inside figures is currently dropped, the caption is retained and linked to the figure in the JSON representation (not shown).\\\\n\\\\nKDD '22, August 14-18, 2022, Washington, DC, USA Birgit Pfitzmann, Christoph Auer, Michele Dolfi, Ahmed S. Nassar, and Peter Staar\\\\n\\\\nTable 2: Prediction performance (mAP@0.5-0.95) of object detection networks on DocLayNet test set. The MRCNN (Mask R-CNN) and FRCNN (Faster R-CNN) models with ResNet-50 or ResNet-101 backbone were trained based on the network architectures from the detectron2 model zoo (Mask R-CNN R50, R101-FPN 3x, Faster R-CNN R101-FPN 3x), with default configurations. The YOLO implementation utilized was YOLOv5x6 [13]. All models were initialised using pre-trained weights from the COCO 2017 dataset.\\\\n\\\\n|                                                                                                        | human                                                                   | MRCNN R50 R101                                                                                                          | FRCNN R101                                                  | YOLO v5x6                                                   |\\\\n|--------------------------------------------------------------------------------------------------------|-------------------------------------------------------------------------|-------------------------------------------------------------------------------------------------------------------------|-------------------------------------------------------------|-------------------------------------------------------------|\\\\n| Caption Footnote Formula List-item Page-footer Page-header Picture Section-header Table Text Title All | 84-89 83-91 83-85 87-88 93-94 85-89 69-71 83-84 77-81 84-86 60-72 82-83 | 68.4 71.5 70.9 71.8 60.1 63.4 81.2 80.8 61.6 59.3 71.9 70.0 71.7 72.7 67.6 69.3 82.2 82.9 84.6 85.8 76.7 80.4 72.4 73.5 | 70.1 73.7 63.5 81.0 58.9 72.0 72.0 68.4 82.2 85.4 79.9 73.4 | 77.7 77.2 66.2 86.2 61.1 67.9 77.1 74.6 86.3 88.1 82.7 76.8 |\\\\n\\\\nto avoid this at any cost in order to have clear, unbiased baseline numbers for human document-layout annotation. Third, we introduced the feature of snapping boxes around text segments to obtain a pixel-accurate annotation and again reduce time and effort. The CCS annotation tool automatically shrinks every user-drawn box to the minimum bounding-box around the enclosed text-cells for all purely text-based segments, which excludes only Table and Picture . For the latter, we instructed annotation staff to minimise inclusion of surrounding whitespace while including all graphical lines. A downside of snapping boxes to enclosed text cells is that some wrongly parsed PDF pages cannot be annotated correctly and need to be skipped. Fourth, we established a way to flag pages as rejected for cases where no valid annotation according to the label guidelines could be achieved. Example cases for this would be PDF pages that render incorrectly or contain layouts that are impossible to capture with non-overlapping rectangles. Such rejected pages are not contained in the final dataset. With all these measures in place, experienced annotation staff managed to annotate a single page in a typical timeframe of 20s to 60s, depending on its complexity.\\\\n\\\\n## 5 EXPERIMENTS\\\\n\\\\nThe primary goal of DocLayNet is to obtain high-quality ML models capable of accurate document-layout analysis on a wide variety of challenging layouts. As discussed in Section 2, object detection models are currently the easiest to use, due to the standardisation of ground-truth data in COCO format [16] and the availability of general frameworks such as detectron2 [17]. Furthermore, baseline numbers in PubLayNet and DocBank were obtained using standard object detection models such as Mask R-CNN and Faster R-CNN. As such, we will relate to these object detection methods in this\\\\n\\\\nFigure 5: Prediction performance (mAP@0.5-0.95) of a Mask R-CNNnetworkwithResNet50backbonetrainedonincreasing fractions of the DocLayNet dataset. The learning curve flattens around the 80% mark, indicating that increasing the size of the DocLayNet dataset with similar data will not yield significantly better predictions.\\\\n\\\\n&lt;!-- image --&gt;\\\\n\\\\npaper and leave the detailed evaluation of more recent methods mentioned in Section 2 for future work.\\\\n\\\\nIn this section, we will present several aspects related to the performance of object detection models on DocLayNet. Similarly as in PubLayNet, we will evaluate the quality of their predictions using mean average precision (mAP) with 10 overlaps that range from 0.5 to 0.95 in steps of 0.05 (mAP@0.5-0.95). These scores are computed by leveraging the evaluation code provided by the COCO API [16].\\\\n\\\\n## Baselines for Object Detection\\\\n\\\\nIn Table 2, we present baseline experiments (given in mAP) on Mask R-CNN [12], Faster R-CNN [11], and YOLOv5 [13]. Both training and evaluation were performed on RGB images with dimensions of 1025 × 1025 pixels. For training, we only used one annotation in case of redundantly annotated pages. As one can observe, the variation in mAP between the models is rather low, but overall between 6 and 10% lower than the mAP computed from the pairwise human annotations on triple-annotated pages. This gives a good indication that the DocLayNet dataset poses a worthwhile challenge for the research community to close the gap between human recognition and ML approaches. It is interesting to see that Mask R-CNN and Faster R-CNN produce very comparable mAP scores, indicating that pixel-based image segmentation derived from bounding-boxes does not help to obtain better predictions. On the other hand, the more recent Yolov5x model does very well and even out-performs humans on selected labels such as Text , Table and Picture . This is not entirely surprising, as Text , Table and Picture are abundant and the most visually distinctive in a document.\\\\n\\\\nmak enbrel\\\\n\\\\nFigure 3: Page 6 of the DocLayNet paper. If recognized, metadata such as authors are appearing first under the title. Elements recognized as page headers or footers are suppressed in Markdown to deliver uninterrupted content in reading order. Tables are inserted in reading order. The paragraph in '5. Experiments' wrapping over the column end is broken up in two and interrupted by the table.\\\\n\\\\nThird, achienec\\\\n\\\\n## EXPERIMENTS\\\\n\\\\nchalenongayouls ground-vuth dawa such WC\\\\n\\\\ncoioct dcochon modols\\\\n\\\\n## Baselines for Object Detection\\\\n\\\\nKDD '22, August 14-18, 2022, Washington, DC, USA\\\\n\\\\nBirgit Pfitzmann, Christoph Auer, Michele Dolfi, Ahmed S. Nassar, and Peter Staar\\\\n\\\\nTable 1: DocLayNet dataset overview. Along with the frequency of each class label, we present the relative occurrence (as %\\\\n\\\\n&lt;!-- image --&gt;\\\\n\\\\nof row 'Total') in the train, test and validation sets. The inter-annotator agreement is computed as the mAP@0.5-0.95 metric we distributed the annotation workload and performed continuous\\\\n\\\\nonly. For phases three and four, a group of 40 dedicated annotators quality controls. Phase one and two required a small team of experts\\\\n\\\\nwere assembled and supervised.\\\\n\\\\nwhile coverage ensures that all meaningful items on a page can to a document category, such as\\\\n\\\\nbe annotated. We refrained from class labels that are very specific\\\\n\\\\nAbstract in the\\\\n\\\\nScientific Articles semantics of the text. Labels such as\\\\n\\\\ncategory. We also avoided class labels that are tightly linked to the\\\\n\\\\nAuthor\\\\n\\\\nAffiliation\\\\n\\\\nteria for documents were described in Section 3. A large effort went into ensuring that all documents are free to use. The data sources in DocBank, are often only distinguishable by discriminating on 3 https://arxiv.org/ Figure 4: Table 1 from the DocLayNet paper in the original PDF (A), as rendered Markdown (B) and in JSON representation (C). Spanning table cells, such as the multi-column header 'triple interannotator mAP@0.5-0.95 (%)', is repeated for each column in the Markdown representation (B), which guarantees that every data point can be traced back to row and column headings only by its grid coordinates in the table. In the JSON representation, the span information is reflected in the fields of each table cell (C).\\\\n\\\\nand\\\\n\\\\n, as seen\\\\n\\\\nPhase 1: Data selection and preparation.\\\\n\\\\nOur inclusion cri-\\\"\\n}\"</span><span style=\"color: #808000; text-decoration-color: #808000\">,</span><span style=\"color: #808000; text-decoration-color: #808000\">\"annotations\"</span><span style=\"color: #808000; text-decoration-color: #808000\">:null,</span><span style=\"color: #808000; text-decoration-color: #808000\">\"meta\"</span><span style=\"color: #808000; text-decoration-color: #808000\">:null</span><span style=\"color: #808000; text-decoration-color: #808000; font-weight: bold\">}</span>\n",
       "</pre>\n"
      ],
      "text/plain": [
       "\u001b[33m-- Tool output: \u001b[0m\u001b[1;33m{\u001b[0m\u001b[33m\"type\"\u001b[0m\u001b[33m:\u001b[0m\u001b[33m\"text\"\u001b[0m\u001b[33m,\u001b[0m\u001b[33m\"text\"\u001b[0m\u001b[33m:\u001b[0m\u001b[33m\"\u001b[0m\u001b[33m{\u001b[0m\u001b[33m\\n  \\\"document_key\\\": \\\"a66148ddcb5e4522d218e89ea3276db2\\\",\\n  \\\"markdown\\\": \\\"\u001b[0m\u001b[33m<\u001b[0m\u001b[33m!-- image -->\\\\n\\\\n## Docling Technical Report\\\\n\\\\n## Version 1.0\\\\n\\\\nChristoph Auer Maksym Lysak Ahmed Nassar Michele Dolfi Nikolaos Livathinos Panos Vagenas Cesar Berrospi Ramis Matteo Omenetti Fabian Lindlbauer Kasper Dinkla Lokesh Mishra Yusik Kim Shubham Gupta Rafael Teixeira de Lima Valery Weber Lucas Morin Ingmar Meijer Viktor Kuropiatnyk Peter W. J. Staar\\\\n\\\\nAI4K Group, IBM Research R¨ uschlikon, Switzerland\\\\n\\\\n## Abstract\\\\n\\\\nThis technical report introduces Docling , an easy to use, self-contained, MITlicensed open-source package for PDF document conversion. It is powered by state-of-the-art specialized AI models for layout analysis \u001b[0m\u001b[33m(\u001b[0m\u001b[33mDocLayNet\u001b[0m\u001b[33m)\u001b[0m\u001b[33m and table structure recognition \u001b[0m\u001b[33m(\u001b[0m\u001b[33mTableFormer\u001b[0m\u001b[33m)\u001b[0m\u001b[33m, and runs efficiently on commodity hardware in a small resource budget. The code interface allows for easy extensibility and addition of new features and models.\\\\n\\\\n## 1 Introduction\\\\n\\\\nConverting PDF documents back into a machine-processable format has been a major challenge for decades due to their huge variability in formats, weak standardization and printing-optimized characteristic, which discards most structural features and metadata. With the advent of LLMs and popular application patterns such as retrieval-augmented generation \u001b[0m\u001b[33m(\u001b[0m\u001b[33mRAG\u001b[0m\u001b[33m)\u001b[0m\u001b[33m, leveraging the rich content embedded in PDFs has become ever more relevant. In the past decade, several powerful document understanding solutions have emerged on the market, most of which are commercial software, cloud offerings \u001b[0m\u001b[33m[\u001b[0m\u001b[33m3\u001b[0m\u001b[33m]\u001b[0m\u001b[33m and most recently, multi-modal vision-language models. As of today, only a handful of open-source tools cover PDF conversion, leaving a significant feature and quality gap to proprietary solutions.\\\\n\\\\nWith Docling , we open-source a very capable and efficient document conversion tool which builds on the powerful, specialized AI models and datasets for layout analysis and table structure recognition we developed and presented in the recent past \u001b[0m\u001b[33m[\u001b[0m\u001b[33m12, 13, 9\u001b[0m\u001b[33m]\u001b[0m\u001b[33m. Docling is designed as a simple, self-contained python library with permissive license, running entirely locally on commodity hardware. Its code architecture allows for easy extensibility and addition of new features and models.\\\\n\\\\nHere is what Docling delivers today:\\\\n\\\\n- Converts PDF documents to JSON or Markdown format, stable and lightning fast\\\\n- Understands detailed page layout, reading order, locates figures and recovers table structures\\\\n- Extracts metadata from the document, such as title, authors, references and language\\\\n- Optionally applies OCR, e.g. for scanned PDFs\\\\n- Can be configured to be optimal for batch-mode \u001b[0m\u001b[33m(\u001b[0m\u001b[33mi.e high throughput, low time-to-solution\u001b[0m\u001b[33m)\u001b[0m\u001b[33m or interactive mode \u001b[0m\u001b[33m(\u001b[0m\u001b[33mcompromise on efficiency, low time-to-solution\u001b[0m\u001b[33m)\u001b[0m\u001b[33m\\\\n- Can leverage different accelerators \u001b[0m\u001b[33m(\u001b[0m\u001b[33mGPU, MPS, etc\u001b[0m\u001b[33m)\u001b[0m\u001b[33m.\\\\n\\\\n## 2 Getting Started\\\\n\\\\nTo use Docling, you can simply install the docling package from PyPI. Documentation and examples are available in our GitHub repository at github.com/DS4SD/docling. All required model assets 1 are downloaded to a local huggingface datasets cache on first use, unless you choose to pre-install the model assets in advance.\\\\n\\\\nDocling provides an easy code interface to convert PDF documents from file system, URLs or binary streams, and retrieve the output in either JSON or Markdown format. For convenience, separate methods are offered to convert single documents or batches of documents. A basic usage example is illustrated below. Further examples are available in the Doclign code repository.\\\\n\\\\nfrom docling.document\\\\\\\\_converter import DocumentConverter\\\\n\\\\n```\\\\nsource = \\\\\\\"https://arxiv.org/pdf/2206.01062\\\\\\\" # PDF path or URL converter = DocumentConverter\u001b[0m\u001b[33m(\u001b[0m\u001b[33m)\u001b[0m\u001b[33m result = converter.convert_single\u001b[0m\u001b[33m(\u001b[0m\u001b[33msource\u001b[0m\u001b[33m)\u001b[0m\u001b[33m print\u001b[0m\u001b[33m(\u001b[0m\u001b[33mresult.render_as_markdown\u001b[0m\u001b[33m(\u001b[0m\u001b[33m)\u001b[0m\u001b[33m)\u001b[0m\u001b[33m # output: \\\\\\\"## DocLayNet: A Large Human -Annotated Dataset for Document -Layout Analysis \u001b[0m\u001b[33m[\u001b[0m\u001b[33m...\u001b[0m\u001b[33m]\u001b[0m\u001b[33m\\\\\\\"\\\\n```\\\\n\\\\nOptionally, you can configure custom pipeline features and runtime options, such as turning on or off features \u001b[0m\u001b[33m(\u001b[0m\u001b[33me.g. OCR, table structure recognition\u001b[0m\u001b[33m)\u001b[0m\u001b[33m, enforcing limits on the input document size, and defining the budget of CPU threads. Advanced usage examples and options are documented in the README file. Docling also provides a Dockerfile to demonstrate how to install and run it inside a container.\\\\n\\\\n## 3 Processing pipeline\\\\n\\\\nDocling implements a linear pipeline of operations, which execute sequentially on each given document \u001b[0m\u001b[33m(\u001b[0m\u001b[33msee Fig. 1\u001b[0m\u001b[33m)\u001b[0m\u001b[33m. Each document is first parsed by a PDF backend, which retrieves the programmatic text tokens, consisting of string content and its coordinates on the page, and also renders a bitmap image of each page to support downstream operations. Then, the standard model pipeline applies a sequence of AI models independently on every page in the document to extract features and content, such as layout and table structures. Finally, the results from all pages are aggregated and passed through a post-processing stage, which augments metadata, detects the document language, infers reading-order and eventually assembles a typed document object which can be serialized to JSON or Markdown.\\\\n\\\\n## 3.1 PDF backends\\\\n\\\\nTwo basic requirements to process PDF documents in our pipeline are a\u001b[0m\u001b[33m)\u001b[0m\u001b[33m to retrieve all text content and their geometric coordinates on each page and b\u001b[0m\u001b[33m)\u001b[0m\u001b[33m to render the visual representation of each page as it would appear in a PDF viewer. Both these requirements are encapsulated in Docling's PDF backend interface. While there are several open-source PDF parsing libraries available for python, we faced major obstacles with all of them for different reasons, among which were restrictive\\\\n\\\\n1 see huggingface.co/ds4sd/docling-models/\\\\n\\\\nFigure 1: Sketch of Docling's default processing pipeline. The inner part of the model pipeline is easily customizable and extensible.\\\\n\\\\n<!-- image -->\\\\n\\\\nlicensing \u001b[0m\u001b[33m(\u001b[0m\u001b[33me.g. pymupdf \u001b[0m\u001b[33m[\u001b[0m\u001b[33m7\u001b[0m\u001b[33m]\u001b[0m\u001b[33m)\u001b[0m\u001b[33m, poor speed or unrecoverable quality issues, such as merged text cells across far-apart text tokens or table columns \u001b[0m\u001b[33m(\u001b[0m\u001b[33mpypdfium, PyPDF\u001b[0m\u001b[33m)\u001b[0m\u001b[33m \u001b[0m\u001b[33m[\u001b[0m\u001b[33m15, 14\u001b[0m\u001b[33m]\u001b[0m\u001b[33m.\\\\n\\\\nWe therefore decided to provide multiple backend choices, and additionally open-source a custombuilt PDF parser, which is based on the low-level qpdf \u001b[0m\u001b[33m[\u001b[0m\u001b[33m4\u001b[0m\u001b[33m]\u001b[0m\u001b[33m library. It is made available in a separate package named docling-parse and powers the default PDF backend in Docling. As an alternative, we provide a PDF backend relying on pypdfium , which may be a safe backup choice in certain cases, e.g. if issues are seen with particular font encodings.\\\\n\\\\n## 3.2 AI models\\\\n\\\\nAs part of Docling, we initially release two highly capable AI models to the open-source community, which have been developed and published recently by our team. The first model is a layout analysis model, an accurate object-detector for page elements \u001b[0m\u001b[33m[\u001b[0m\u001b[33m13\u001b[0m\u001b[33m]\u001b[0m\u001b[33m. The second model is TableFormer \u001b[0m\u001b[33m[\u001b[0m\u001b[33m12, 9\u001b[0m\u001b[33m]\u001b[0m\u001b[33m, a state-of-the-art table structure recognition model. We provide the pre-trained weights \u001b[0m\u001b[33m(\u001b[0m\u001b[33mhosted on huggingface\u001b[0m\u001b[33m)\u001b[0m\u001b[33m and a separate package for the inference code as docling-ibm-models . Both models are also powering the open-access deepsearch-experience, our cloud-native service for knowledge exploration tasks.\\\\n\\\\n## Layout Analysis Model\\\\n\\\\nOur layout analysis model is an object-detector which predicts the bounding-boxes and classes of various elements on the image of a given page. Its architecture is derived from RT-DETR \u001b[0m\u001b[33m[\u001b[0m\u001b[33m16\u001b[0m\u001b[33m]\u001b[0m\u001b[33m and re-trained on DocLayNet \u001b[0m\u001b[33m[\u001b[0m\u001b[33m13\u001b[0m\u001b[33m]\u001b[0m\u001b[33m, our popular human-annotated dataset for document-layout analysis, among other proprietary datasets. For inference, our implementation relies on the onnxruntime \u001b[0m\u001b[33m[\u001b[0m\u001b[33m5\u001b[0m\u001b[33m]\u001b[0m\u001b[33m.\\\\n\\\\nThe Docling pipeline feeds page images at 72 dpi resolution, which can be processed on a single CPU with sub-second latency. All predicted bounding-box proposals for document elements are post-processed to remove overlapping proposals based on confidence and size, and then intersected with the text tokens in the PDF to group them into meaningful and complete units such as paragraphs, section titles, list items, captions, figures or tables.\\\\n\\\\n## Table Structure Recognition\\\\n\\\\nThe TableFormer model \u001b[0m\u001b[33m[\u001b[0m\u001b[33m12\u001b[0m\u001b[33m]\u001b[0m\u001b[33m, first published in 2022 and since refined with a custom structure token language \u001b[0m\u001b[33m[\u001b[0m\u001b[33m9\u001b[0m\u001b[33m]\u001b[0m\u001b[33m, is a vision-transformer model for table structure recovery. It can predict the logical row and column structure of a given table based on an input image, and determine which table cells belong to column headers, row headers or the table body. Compared to earlier approaches, TableFormer handles many characteristics of tables, such as partial or no borderlines, empty cells, rows or columns, cell spans and hierarchy both on column-heading or row-heading level, tables with inconsistent indentation or alignment and other complexities. For inference, our implementation relies on PyTorch \u001b[0m\u001b[33m[\u001b[0m\u001b[33m2\u001b[0m\u001b[33m]\u001b[0m\u001b[33m.\\\\n\\\\nThe Docling pipeline feeds all table objects detected in the layout analysis to the TableFormer model, by providing an image-crop of the table and the included text cells. TableFormer structure predictions are matched back to the PDF cells in post-processing to avoid expensive re-transcription text in the table image. Typical tables require between 2 and 6 seconds to be processed on a standard CPU, strongly depending on the amount of included table cells.\\\\n\\\\n## OCR\\\\n\\\\nDocling provides optional support for OCR, for example to cover scanned PDFs or content in bitmaps images embedded on a page. In our initial release, we rely on EasyOCR \u001b[0m\u001b[33m[\u001b[0m\u001b[33m1\u001b[0m\u001b[33m]\u001b[0m\u001b[33m, a popular thirdparty OCR library with support for many languages. Docling, by default, feeds a high-resolution page image \u001b[0m\u001b[33m(\u001b[0m\u001b[33m216 dpi\u001b[0m\u001b[33m)\u001b[0m\u001b[33m to the OCR engine, to allow capturing small print detail in decent quality. While EasyOCR delivers reasonable transcription quality, we observe that it runs fairly slow on CPU \u001b[0m\u001b[33m(\u001b[0m\u001b[33mupwards of 30 seconds per page\u001b[0m\u001b[33m)\u001b[0m\u001b[33m.\\\\n\\\\nWe are actively seeking collaboration from the open-source community to extend Docling with additional OCR backends and speed improvements.\\\\n\\\\n## 3.3 Assembly\\\\n\\\\nIn the final pipeline stage, Docling assembles all prediction results produced on each page into a well-defined datatype that encapsulates a converted document, as defined in the auxiliary package docling-core . The generated document object is passed through a post-processing model which leverages several algorithms to augment features, such as detection of the document language, correcting the reading order, matching figures with captions and labelling metadata such as title, authors and references. The final output can then be serialized to JSON or transformed into a Markdown representation at the users request.\\\\n\\\\n## 3.4 Extensibility\\\\n\\\\nDocling provides a straight-forward interface to extend its capabilities, namely the model pipeline. A model pipeline constitutes the central part in the processing, following initial document parsing and preceding output assembly, and can be fully customized by sub-classing from an abstract baseclass \u001b[0m\u001b[33m(\u001b[0m\u001b[33m BaseModelPipeline \u001b[0m\u001b[33m)\u001b[0m\u001b[33m or cloning the default model pipeline. This effectively allows to fully customize the chain of models, add or replace models, and introduce additional pipeline configuration parameters. To use a custom model pipeline, the custom pipeline class to instantiate can be provided as an argument to the main document conversion methods. We invite everyone in the community to propose additional or alternative models and improvements.\\\\n\\\\nImplementations of model classes must satisfy the python Callable interface. The \\\\\\\\_\\\\\\\\_call\\\\\\\\_\\\\\\\\_ method must accept an iterator over page objects, and produce another iterator over the page objects which were augmented with the additional features predicted by the model, by extending the provided PagePredictions data model accordingly.\\\\n\\\\n## 4 Performance\\\\n\\\\nIn this section, we establish some reference numbers for the processing speed of Docling and the resource budget it requires. All tests in this section are run with default options on our standard test set distributed with Docling, which consists of three papers from arXiv and two IBM Redbooks, with a total of 225 pages. Measurements were taken using both available PDF backends on two different hardware systems: one MacBook Pro M3 Max, and one bare-metal server running Ubuntu 20.04 LTS on an Intel Xeon E5-2690 CPU. For reproducibility, we fixed the thread budget \u001b[0m\u001b[33m(\u001b[0m\u001b[33mthrough setting OMP NUM THREADS environment variable \u001b[0m\u001b[33m)\u001b[0m\u001b[33m once to 4 \u001b[0m\u001b[33m(\u001b[0m\u001b[33mDocling default\u001b[0m\u001b[33m)\u001b[0m\u001b[33m and once to 16 \u001b[0m\u001b[33m(\u001b[0m\u001b[33mequal to full core count on the test hardware\u001b[0m\u001b[33m)\u001b[0m\u001b[33m. All results are shown in Table 1.\\\\n\\\\nIf you need to run Docling in very low-resource environments, please consider configuring the pypdfium backend. While it is faster and more memory efficient than the default docling-parse backend, it will come at the expense of worse quality results, especially in table structure recovery.\\\\n\\\\nEstablishing GPU acceleration support for the AI models is currently work-in-progress and largely untested, but may work implicitly when CUDA is available and discovered by the onnxruntime and\\\\n\\\\ntorch runtimes backing the Docling pipeline. We will deliver updates on this topic at in a future version of this report.\\\\n\\\\nTable 1: Runtime characteristics of Docling with the standard model pipeline and settings, on our test dataset of 225 pages, on two different systems. OCR is disabled. We show the time-to-solution \u001b[0m\u001b[33m(\u001b[0m\u001b[33mTTS\u001b[0m\u001b[33m)\u001b[0m\u001b[33m, computed throughput in pages per second, and the peak memory used \u001b[0m\u001b[33m(\u001b[0m\u001b[33mresident set size\u001b[0m\u001b[33m)\u001b[0m\u001b[33m for both the Docling-native PDF backend and for the pypdfium backend, using 4 and 16 threads.\\\\n\\\\n| CPU                     | Thread budget   | native backend   | native backend   | native backend   | pypdfium backend   | pypdfium backend   | pypdfium backend   |\\\\n|-------------------------|-----------------|------------------|------------------|------------------|--------------------|--------------------|--------------------|\\\\n|                         |                 | TTS              | Pages/s          | Mem              | TTS                | Pages/s            | Mem                |\\\\n| Apple M3 Max \u001b[0m\u001b[33m(\u001b[0m\u001b[33m16 cores\u001b[0m\u001b[33m)\u001b[0m\u001b[33m | 4 16            | 177 s 167 s      | 1.27 1.34        | 6.20 GB          | 103 s 92 s         | 2.18 2.45          | 2.56 GB            |\\\\n| Intel\u001b[0m\u001b[33m(\u001b[0m\u001b[33mR\u001b[0m\u001b[33m)\u001b[0m\u001b[33m Xeon E5-2690   | 4 16            | 375 s 244 s      | 0.60 0.92        | 6.16 GB          | 239 s 143 s        | 0.94 1.57          | 2.42 GB            |\\\\n\\\\n## 5 Applications\\\\n\\\\nThanks to the high-quality, richly structured document conversion achieved by Docling, its output qualifies for numerous downstream applications. For example, Docling can provide a base for detailed enterprise document search, passage retrieval or classification use-cases, or support knowledge extraction pipelines, allowing specific treatment of different structures in the document, such as tables, figures, section structure or references. For popular generative AI application patterns, such as retrieval-augmented generation \u001b[0m\u001b[33m(\u001b[0m\u001b[33mRAG\u001b[0m\u001b[33m)\u001b[0m\u001b[33m, we provide quackling , an open-source package which capitalizes on Docling's feature-rich document output to enable document-native optimized vector embedding and chunking. It plugs in seamlessly with LLM frameworks such as LlamaIndex \u001b[0m\u001b[33m[\u001b[0m\u001b[33m8\u001b[0m\u001b[33m]\u001b[0m\u001b[33m. Since Docling is fast, stable and cheap to run, it also makes for an excellent choice to build document-derived datasets. With its powerful table structure recognition, it provides significant benefit to automated knowledge-base construction \u001b[0m\u001b[33m[\u001b[0m\u001b[33m11, 10\u001b[0m\u001b[33m]\u001b[0m\u001b[33m. Docling is also integrated within the open IBM data prep kit \u001b[0m\u001b[33m[\u001b[0m\u001b[33m6\u001b[0m\u001b[33m]\u001b[0m\u001b[33m, which implements scalable data transforms to build large-scale multi-modal training datasets.\\\\n\\\\n## 6 Future work and contributions\\\\n\\\\nDocling is designed to allow easy extension of the model library and pipelines. In the future, we plan to extend Docling with several more models, such as a figure-classifier model, an equationrecognition model, a code-recognition model and more. This will help improve the quality of conversion for specific types of content, as well as augment extracted document metadata with additional information. Further investment into testing and optimizing GPU acceleration as well as improving the Docling-native PDF backend are on our roadmap, too.\\\\n\\\\nWe encourage everyone to propose or implement additional features and models, and will gladly take your inputs and contributions under review . The codebase of Docling is open for use and contribution, under the MIT license agreement and in alignment with our contributing guidelines included in the Docling repository. If you use Docling in your projects, please consider citing this technical report.\\\\n\\\\n## References\\\\n\\\\n- \u001b[0m\u001b[33m[\u001b[0m\u001b[33m1\u001b[0m\u001b[33m]\u001b[0m\u001b[33m J. AI. Easyocr: Ready-to-use ocr with 80+ supported languages. https://github.com/ JaidedAI/EasyOCR , 2024. Version: 1.7.0.\\\\n- \u001b[0m\u001b[33m[\u001b[0m\u001b[33m2\u001b[0m\u001b[33m]\u001b[0m\u001b[33m J. Ansel, E. Yang, H. He, N. Gimelshein, A. Jain, M. Voznesensky, B. Bao, P. Bell, D. Berard, E. Burovski, G. Chauhan, A. Chourdia, W. Constable, A. Desmaison, Z. DeVito, E. Ellison, W. Feng, J. Gong, M. Gschwind, B. Hirsh, S. Huang, K. Kalambarkar, L. Kirsch, M. Lazos, M. Lezcano, Y. Liang, J. Liang, Y. Lu, C. Luk, B. Maher, Y. Pan, C. Puhrsch, M. Reso, M. Saroufim, M. Y. Siraichi, H. Suk, M. Suo, P. Tillet, E. Wang, X. Wang, W. Wen, S. Zhang, X. Zhao, K. Zhou, R. Zou, A. Mathews, G. Chanan, P. Wu, and S. Chintala. Pytorch 2: Faster\\\\n\\\\nmachine learning through dynamic python bytecode transformation and graph compilation. In Proceedings of the 29th ACM International Conference on Architectural Support for Programming Languages and Operating Systems, Volume 2 \u001b[0m\u001b[33m(\u001b[0m\u001b[33mASPLOS '24\u001b[0m\u001b[33m)\u001b[0m\u001b[33m . ACM, 4 2024. doi: 10.1145/3620665.3640366. URL https://pytorch.org/assets/pytorch2-2.pdf .\\\\n\\\\n- \u001b[0m\u001b[33m[\u001b[0m\u001b[33m3\u001b[0m\u001b[33m]\u001b[0m\u001b[33m C. Auer, M. Dolfi, A. Carvalho, C. B. Ramis, and P. W. Staar. Delivering document conversion as a cloud service with high throughput and responsiveness. In 2022 IEEE 15th International Conference on Cloud Computing \u001b[0m\u001b[33m(\u001b[0m\u001b[33mCLOUD\u001b[0m\u001b[33m)\u001b[0m\u001b[33m , pages 363-373. IEEE, 2022.\\\\n- \u001b[0m\u001b[33m[\u001b[0m\u001b[33m4\u001b[0m\u001b[33m]\u001b[0m\u001b[33m J. Berkenbilt. Qpdf: A content-preserving pdf document transformer, 2024. URL https: //github.com/qpdf/qpdf .\\\\n- \u001b[0m\u001b[33m[\u001b[0m\u001b[33m5\u001b[0m\u001b[33m]\u001b[0m\u001b[33m O. R. developers. Onnx runtime. https://onnxruntime.ai/ , 2024. Version: 1.18.1.\\\\n- \u001b[0m\u001b[33m[\u001b[0m\u001b[33m6\u001b[0m\u001b[33m]\u001b[0m\u001b[33m IBM. Data Prep Kit: a community project to democratize and accelerate unstructured data preparation for LLM app developers, 2024. URL https://github.com/IBM/ data-prep-kit .\\\\n- \u001b[0m\u001b[33m[\u001b[0m\u001b[33m7\u001b[0m\u001b[33m]\u001b[0m\u001b[33m A. S. Inc. PyMuPDF, 2024. URL https://github.com/pymupdf/PyMuPDF .\\\\n- \u001b[0m\u001b[33m[\u001b[0m\u001b[33m8\u001b[0m\u001b[33m]\u001b[0m\u001b[33m J. Liu. LlamaIndex, 11 2022. URL https://github.com/jerryjliu/llama\\\\\\\\_index .\\\\n- \u001b[0m\u001b[33m[\u001b[0m\u001b[33m9\u001b[0m\u001b[33m]\u001b[0m\u001b[33m M. Lysak, A. Nassar, N. Livathinos, C. Auer, and P. Staar. Optimized Table Tokenization for Table Structure Recognition. In Document Analysis and Recognition - ICDAR 2023: 17th International Conference, San Jos´ e, CA, USA, August 21-26, 2023, Proceedings, Part II , pages 37-50, Berlin, Heidelberg, Aug. 2023. Springer-Verlag. ISBN 978-3-031-41678-1. doi: 10. 1007/978-3-031-41679-8 3. URL https://doi.org/10.1007/978-3-031-41679-8\\\\\\\\_3 .\\\\n- \u001b[0m\u001b[33m[\u001b[0m\u001b[33m10\u001b[0m\u001b[33m]\u001b[0m\u001b[33m L. Mishra, S. Dhibi, Y. Kim, C. Berrospi Ramis, S. Gupta, M. Dolfi, and P. Staar. Statements: Universal information extraction from tables with large language models for ESG KPIs. In D. Stammbach, J. Ni, T. Schimanski, K. Dutia, A. Singh, J. Bingler, C. Christiaen, N. Kushwaha, V. Muccione, S. A. Vaghefi, and M. Leippold, editors, Proceedings of the 1st Workshop on Natural Language Processing Meets Climate Change \u001b[0m\u001b[33m(\u001b[0m\u001b[33mClimateNLP 2024\u001b[0m\u001b[33m)\u001b[0m\u001b[33m , pages 193-214, Bangkok, Thailand, Aug. 2024. Association for Computational Linguistics. URL https://aclanthology.org/2024.climatenlp-1.15 .\\\\n- \u001b[0m\u001b[33m[\u001b[0m\u001b[33m11\u001b[0m\u001b[33m]\u001b[0m\u001b[33m L. Morin, V. Weber, G. I. Meijer, F. Yu, and P. W. J. Staar. Patcid: an open-access dataset of chemical structures in patent documents. Nature Communications , 15\u001b[0m\u001b[33m(\u001b[0m\u001b[33m1\u001b[0m\u001b[33m)\u001b[0m\u001b[33m:6532, August 2024. ISSN 2041-1723. doi: 10.1038/s41467-024-50779-y. URL https://doi.org/10.1038/ s41467-024-50779-y .\\\\n- \u001b[0m\u001b[33m[\u001b[0m\u001b[33m12\u001b[0m\u001b[33m]\u001b[0m\u001b[33m A. Nassar, N. Livathinos, M. Lysak, and P. Staar. Tableformer: Table structure understanding with transformers. In Proceedings of the IEEE/CVF Conference on Computer Vision and Pattern Recognition , pages 4614-4623, 2022.\\\\n- \u001b[0m\u001b[33m[\u001b[0m\u001b[33m13\u001b[0m\u001b[33m]\u001b[0m\u001b[33m B. Pfitzmann, C. Auer, M. Dolfi, A. S. Nassar, and P. Staar. Doclaynet: a large humanannotated dataset for document-layout segmentation. pages 3743-3751, 2022.\\\\n- \u001b[0m\u001b[33m[\u001b[0m\u001b[33m14\u001b[0m\u001b[33m]\u001b[0m\u001b[33m pypdf Maintainers. pypdf: A Pure-Python PDF Library, 2024. URL https://github.com/ py-pdf/pypdf .\\\\n- \u001b[0m\u001b[33m[\u001b[0m\u001b[33m15\u001b[0m\u001b[33m]\u001b[0m\u001b[33m P. Team. PyPDFium2: Python bindings for PDFium, 2024. URL https://github.com/ pypdfium2-team/pypdfium2 .\\\\n- \u001b[0m\u001b[33m[\u001b[0m\u001b[33m16\u001b[0m\u001b[33m]\u001b[0m\u001b[33m Y. Zhao, W. Lv, S. Xu, J. Wei, G. Wang, Q. Dang, Y. Liu, and J. Chen. Detrs beat yolos on real-time object detection, 2023.\\\\n\\\\n## Appendix\\\\n\\\\nIn this section, we illustrate a few examples of Docling's output in Markdown and JSON.\\\\n\\\\n<!-- image -->\\\\n\\\\n1 INTRODUCTION\\\\n\\\\nDespite the substantial improvements achieved with machine-learning \u001b[0m\u001b[33m(\u001b[0m\u001b[33mML\u001b[0m\u001b[33m)\u001b[0m\u001b[33m approaches and deep neural networks in recent years, document conversion remains a challenging problem, as demonstrated by the numerous public competitions held on this topic \u001b[0m\u001b[33m[\u001b[0m\u001b[33m1-4\u001b[0m\u001b[33m]\u001b[0m\u001b[33m. The challenge originates from the huge variability in PDF documents regarding layout, language and formats \u001b[0m\u001b[33m(\u001b[0m\u001b[33mscanned, programmatic or a combination of both\u001b[0m\u001b[33m)\u001b[0m\u001b[33m. Engineering a single ML model that can be applied on all types of documents and provides high-quality layout segmentation remains to this day extremely challenging \u001b[0m\u001b[33m[\u001b[0m\u001b[33m5\u001b[0m\u001b[33m]\u001b[0m\u001b[33m. To highlight the variability in document layouts, we show a few example documents from the DocLayNet dataset in Figure 1. Figure 2: Title page of the DocLayNet paper \u001b[0m\u001b[33m(\u001b[0m\u001b[33marxiv.org/pdf/2206.01062\u001b[0m\u001b[33m)\u001b[0m\u001b[33m - left PDF, right rendered Markdown. If recognized, metadata such as authors are appearing first under the title. Text content inside figures is currently dropped, the caption is retained and linked to the figure in the JSON representation \u001b[0m\u001b[33m(\u001b[0m\u001b[33mnot shown\u001b[0m\u001b[33m)\u001b[0m\u001b[33m.\\\\n\\\\nKDD '22, August 14-18, 2022, Washington, DC, USA Birgit Pfitzmann, Christoph Auer, Michele Dolfi, Ahmed S. Nassar, and Peter Staar\\\\n\\\\nTable 2: Prediction performance \u001b[0m\u001b[33m(\u001b[0m\u001b[33mmAP@0.5-0.95\u001b[0m\u001b[33m)\u001b[0m\u001b[33m of object detection networks on DocLayNet test set. The MRCNN \u001b[0m\u001b[33m(\u001b[0m\u001b[33mMask R-CNN\u001b[0m\u001b[33m)\u001b[0m\u001b[33m and FRCNN \u001b[0m\u001b[33m(\u001b[0m\u001b[33mFaster R-CNN\u001b[0m\u001b[33m)\u001b[0m\u001b[33m models with ResNet-50 or ResNet-101 backbone were trained based on the network architectures from the detectron2 model zoo \u001b[0m\u001b[33m(\u001b[0m\u001b[33mMask R-CNN R50, R101-FPN 3x, Faster R-CNN R101-FPN 3x\u001b[0m\u001b[33m)\u001b[0m\u001b[33m, with default configurations. The YOLO implementation utilized was YOLOv5x6 \u001b[0m\u001b[33m[\u001b[0m\u001b[33m13\u001b[0m\u001b[33m]\u001b[0m\u001b[33m. All models were initialised using pre-trained weights from the COCO 2017 dataset.\\\\n\\\\n|                                                                                                        | human                                                                   | MRCNN R50 R101                                                                                                          | FRCNN R101                                                  | YOLO v5x6                                                   |\\\\n|--------------------------------------------------------------------------------------------------------|-------------------------------------------------------------------------|-------------------------------------------------------------------------------------------------------------------------|-------------------------------------------------------------|-------------------------------------------------------------|\\\\n| Caption Footnote Formula List-item Page-footer Page-header Picture Section-header Table Text Title All | 84-89 83-91 83-85 87-88 93-94 85-89 69-71 83-84 77-81 84-86 60-72 82-83 | 68.4 71.5 70.9 71.8 60.1 63.4 81.2 80.8 61.6 59.3 71.9 70.0 71.7 72.7 67.6 69.3 82.2 82.9 84.6 85.8 76.7 80.4 72.4 73.5 | 70.1 73.7 63.5 81.0 58.9 72.0 72.0 68.4 82.2 85.4 79.9 73.4 | 77.7 77.2 66.2 86.2 61.1 67.9 77.1 74.6 86.3 88.1 82.7 76.8 |\\\\n\\\\nto avoid this at any cost in order to have clear, unbiased baseline numbers for human document-layout annotation. Third, we introduced the feature of snapping boxes around text segments to obtain a pixel-accurate annotation and again reduce time and effort. The CCS annotation tool automatically shrinks every user-drawn box to the minimum bounding-box around the enclosed text-cells for all purely text-based segments, which excludes only Table and Picture . For the latter, we instructed annotation staff to minimise inclusion of surrounding whitespace while including all graphical lines. A downside of snapping boxes to enclosed text cells is that some wrongly parsed PDF pages cannot be annotated correctly and need to be skipped. Fourth, we established a way to flag pages as rejected for cases where no valid annotation according to the label guidelines could be achieved. Example cases for this would be PDF pages that render incorrectly or contain layouts that are impossible to capture with non-overlapping rectangles. Such rejected pages are not contained in the final dataset. With all these measures in place, experienced annotation staff managed to annotate a single page in a typical timeframe of 20s to 60s, depending on its complexity.\\\\n\\\\n## 5 EXPERIMENTS\\\\n\\\\nThe primary goal of DocLayNet is to obtain high-quality ML models capable of accurate document-layout analysis on a wide variety of challenging layouts. As discussed in Section 2, object detection models are currently the easiest to use, due to the standardisation of ground-truth data in COCO format \u001b[0m\u001b[33m[\u001b[0m\u001b[33m16\u001b[0m\u001b[33m]\u001b[0m\u001b[33m and the availability of general frameworks such as detectron2 \u001b[0m\u001b[33m[\u001b[0m\u001b[33m17\u001b[0m\u001b[33m]\u001b[0m\u001b[33m. Furthermore, baseline numbers in PubLayNet and DocBank were obtained using standard object detection models such as Mask R-CNN and Faster R-CNN. As such, we will relate to these object detection methods in this\\\\n\\\\nFigure 5: Prediction performance \u001b[0m\u001b[33m(\u001b[0m\u001b[33mmAP@0.5-0.95\u001b[0m\u001b[33m)\u001b[0m\u001b[33m of a Mask R-CNNnetworkwithResNet50backbonetrainedonincreasing fractions of the DocLayNet dataset. The learning curve flattens around the 80% mark, indicating that increasing the size of the DocLayNet dataset with similar data will not yield significantly better predictions.\\\\n\\\\n<!-- image -->\\\\n\\\\npaper and leave the detailed evaluation of more recent methods mentioned in Section 2 for future work.\\\\n\\\\nIn this section, we will present several aspects related to the performance of object detection models on DocLayNet. Similarly as in PubLayNet, we will evaluate the quality of their predictions using mean average precision \u001b[0m\u001b[33m(\u001b[0m\u001b[33mmAP\u001b[0m\u001b[33m)\u001b[0m\u001b[33m with 10 overlaps that range from 0.5 to 0.95 in steps of 0.05 \u001b[0m\u001b[33m(\u001b[0m\u001b[33mmAP@0.5-0.95\u001b[0m\u001b[33m)\u001b[0m\u001b[33m. These scores are computed by leveraging the evaluation code provided by the COCO API \u001b[0m\u001b[33m[\u001b[0m\u001b[33m16\u001b[0m\u001b[33m]\u001b[0m\u001b[33m.\\\\n\\\\n## Baselines for Object Detection\\\\n\\\\nIn Table 2, we present baseline experiments \u001b[0m\u001b[33m(\u001b[0m\u001b[33mgiven in mAP\u001b[0m\u001b[33m)\u001b[0m\u001b[33m on Mask R-CNN \u001b[0m\u001b[33m[\u001b[0m\u001b[33m12\u001b[0m\u001b[33m]\u001b[0m\u001b[33m, Faster R-CNN \u001b[0m\u001b[33m[\u001b[0m\u001b[33m11\u001b[0m\u001b[33m]\u001b[0m\u001b[33m, and YOLOv5 \u001b[0m\u001b[33m[\u001b[0m\u001b[33m13\u001b[0m\u001b[33m]\u001b[0m\u001b[33m. Both training and evaluation were performed on RGB images with dimensions of 1025 × 1025 pixels. For training, we only used one annotation in case of redundantly annotated pages. As one can observe, the variation in mAP between the models is rather low, but overall between 6 and 10% lower than the mAP computed from the pairwise human annotations on triple-annotated pages. This gives a good indication that the DocLayNet dataset poses a worthwhile challenge for the research community to close the gap between human recognition and ML approaches. It is interesting to see that Mask R-CNN and Faster R-CNN produce very comparable mAP scores, indicating that pixel-based image segmentation derived from bounding-boxes does not help to obtain better predictions. On the other hand, the more recent Yolov5x model does very well and even out-performs humans on selected labels such as Text , Table and Picture . This is not entirely surprising, as Text , Table and Picture are abundant and the most visually distinctive in a document.\\\\n\\\\nmak enbrel\\\\n\\\\nFigure 3: Page 6 of the DocLayNet paper. If recognized, metadata such as authors are appearing first under the title. Elements recognized as page headers or footers are suppressed in Markdown to deliver uninterrupted content in reading order. Tables are inserted in reading order. The paragraph in '5. Experiments' wrapping over the column end is broken up in two and interrupted by the table.\\\\n\\\\nThird, achienec\\\\n\\\\n## EXPERIMENTS\\\\n\\\\nchalenongayouls ground-vuth dawa such WC\\\\n\\\\ncoioct dcochon modols\\\\n\\\\n## Baselines for Object Detection\\\\n\\\\nKDD '22, August 14-18, 2022, Washington, DC, USA\\\\n\\\\nBirgit Pfitzmann, Christoph Auer, Michele Dolfi, Ahmed S. Nassar, and Peter Staar\\\\n\\\\nTable 1: DocLayNet dataset overview. Along with the frequency of each class label, we present the relative occurrence \u001b[0m\u001b[33m(\u001b[0m\u001b[33mas %\\\\n\\\\n<!-- image --\u001b[0m\u001b[33m>\u001b[0m\u001b[33m\\\\n\\\\nof row 'Total'\u001b[0m\u001b[33m)\u001b[0m\u001b[33m in the train, test and validation sets. The inter-annotator agreement is computed as the mAP@0.5-0.95 metric we distributed the annotation workload and performed continuous\\\\n\\\\nonly. For phases three and four, a group of 40 dedicated annotators quality controls. Phase one and two required a small team of experts\\\\n\\\\nwere assembled and supervised.\\\\n\\\\nwhile coverage ensures that all meaningful items on a page can to a document category, such as\\\\n\\\\nbe annotated. We refrained from class labels that are very specific\\\\n\\\\nAbstract in the\\\\n\\\\nScientific Articles semantics of the text. Labels such as\\\\n\\\\ncategory. We also avoided class labels that are tightly linked to the\\\\n\\\\nAuthor\\\\n\\\\nAffiliation\\\\n\\\\nteria for documents were described in Section 3. A large effort went into ensuring that all documents are free to use. The data sources in DocBank, are often only distinguishable by discriminating on 3 https://arxiv.org/ Figure 4: Table 1 from the DocLayNet paper in the original PDF \u001b[0m\u001b[33m(\u001b[0m\u001b[33mA\u001b[0m\u001b[33m)\u001b[0m\u001b[33m, as rendered Markdown \u001b[0m\u001b[33m(\u001b[0m\u001b[33mB\u001b[0m\u001b[33m)\u001b[0m\u001b[33m and in JSON representation \u001b[0m\u001b[33m(\u001b[0m\u001b[33mC\u001b[0m\u001b[33m)\u001b[0m\u001b[33m. Spanning table cells, such as the multi-column header 'triple interannotator mAP@0.5-0.95 \u001b[0m\u001b[33m(\u001b[0m\u001b[33m%\u001b[0m\u001b[33m)\u001b[0m\u001b[33m', is repeated for each column in the Markdown representation \u001b[0m\u001b[33m(\u001b[0m\u001b[33mB\u001b[0m\u001b[33m)\u001b[0m\u001b[33m, which guarantees that every data point can be traced back to row and column headings only by its grid coordinates in the table. In the JSON representation, the span information is reflected in the fields of each table cell \u001b[0m\u001b[33m(\u001b[0m\u001b[33mC\u001b[0m\u001b[33m)\u001b[0m\u001b[33m.\\\\n\\\\nand\\\\n\\\\n, as seen\\\\n\\\\nPhase 1: Data selection and preparation.\\\\n\\\\nOur inclusion cri-\\\"\\n\u001b[0m\u001b[33m}\u001b[0m\u001b[33m\"\u001b[0m\u001b[33m,\u001b[0m\u001b[33m\"annotations\"\u001b[0m\u001b[33m:null,\u001b[0m\u001b[33m\"meta\"\u001b[0m\u001b[33m:null\u001b[0m\u001b[1;33m}\u001b[0m\n"
      ]
     },
     "metadata": {},
     "output_type": "display_data"
    },
    {
     "data": {
      "text/html": [
       "<pre style=\"white-space:pre;overflow-x:auto;line-height:normal;font-family:Menlo,'DejaVu Sans Mono',consolas,'Courier New',monospace\"><span style=\"color: #008000; text-decoration-color: #008000\">🤖 Assistant&gt;</span>\n",
       "</pre>\n"
      ],
      "text/plain": [
       "\u001b[32m🤖 Assistant>\u001b[0m\n"
      ]
     },
     "metadata": {},
     "output_type": "display_data"
    },
    {
     "data": {
      "text/html": [
       "<pre style=\"white-space:pre;overflow-x:auto;line-height:normal;font-family:Menlo,'DejaVu Sans Mono',consolas,'Courier New',monospace\">The document is a technical report about Docling, an open-source package for PDF document conversion. It is powered by state-of-the-art specialized AI models for layout analysis and table structure recognition, and runs efficiently on commodity hardware in a small resource budget. The report discusses the processing pipeline, AI models, and performance of Docling, as well as its applications and future work. The document also includes examples of Docling's output in Markdown and JSON.\n",
       "\n",
       "In summary, Docling is a powerful tool for converting PDF documents into machine-processable formats, and it has the potential to be used in a variety of applications, such as document search, passage retrieval, and knowledge extraction.\n",
       "\n",
       "The main points of the document are:\n",
       "\n",
       "<span style=\"color: #808000; text-decoration-color: #808000; font-weight: bold\"> • </span>Docling is an open-source package for PDF document conversion.                                   \n",
       "<span style=\"color: #808000; text-decoration-color: #808000; font-weight: bold\"> • </span>It is powered by state-of-the-art specialized AI models for layout analysis and table structure r\n",
       "<span style=\"color: #808000; text-decoration-color: #808000; font-weight: bold\"> • </span>It runs efficiently on commodity hardware in a small resource budget.                            \n",
       "<span style=\"color: #808000; text-decoration-color: #808000; font-weight: bold\"> • </span>The processing pipeline includes PDF parsing, AI model application, and output assembly.         \n",
       "<span style=\"color: #808000; text-decoration-color: #808000; font-weight: bold\"> • </span>The AI models used in Docling include a layout analysis model and a table structure recognition m\n",
       "<span style=\"color: #808000; text-decoration-color: #808000; font-weight: bold\"> • </span>Docling has a variety of applications, including document search, passage retrieval, and knowledg\n",
       "<span style=\"color: #808000; text-decoration-color: #808000; font-weight: bold\"> • </span>Future work includes extending Docling with additional models and improving its performance.     \n",
       "\n",
       "Overall, the document provides a detailed overview of Docling and its capabilities, and it highlights the potential of this tool for a variety of applications.\n",
       "</pre>\n"
      ],
      "text/plain": [
       "The document is a technical report about Docling, an open-source package for PDF document conversion. It is powered by state-of-the-art specialized AI models for layout analysis and table structure recognition, and runs efficiently on commodity hardware in a small resource budget. The report discusses the processing pipeline, AI models, and performance of Docling, as well as its applications and future work. The document also includes examples of Docling's output in Markdown and JSON.\n",
       "\n",
       "In summary, Docling is a powerful tool for converting PDF documents into machine-processable formats, and it has the potential to be used in a variety of applications, such as document search, passage retrieval, and knowledge extraction.\n",
       "\n",
       "The main points of the document are:\n",
       "\n",
       "\u001b[1;33m • \u001b[0mDocling is an open-source package for PDF document conversion.                                   \n",
       "\u001b[1;33m • \u001b[0mIt is powered by state-of-the-art specialized AI models for layout analysis and table structure r\n",
       "\u001b[1;33m • \u001b[0mIt runs efficiently on commodity hardware in a small resource budget.                            \n",
       "\u001b[1;33m • \u001b[0mThe processing pipeline includes PDF parsing, AI model application, and output assembly.         \n",
       "\u001b[1;33m • \u001b[0mThe AI models used in Docling include a layout analysis model and a table structure recognition m\n",
       "\u001b[1;33m • \u001b[0mDocling has a variety of applications, including document search, passage retrieval, and knowledg\n",
       "\u001b[1;33m • \u001b[0mFuture work includes extending Docling with additional models and improving its performance.     \n",
       "\n",
       "Overall, the document provides a detailed overview of Docling and its capabilities, and it highlights the potential of this tool for a variety of applications.\n"
      ]
     },
     "metadata": {},
     "output_type": "display_data"
    }
   ],
   "source": [
    "await run_agent(\n",
    "    queries=[\n",
    "        \"Convert the document on https://arxiv.org/pdf/2408.09869 and give me a summary of the document from its markdown content.\",\n",
    "    ],\n",
    "    extra_tools=[],\n",
    "    allowed_tools=[\n",
    "        \"convert_document_into_docling_document\",\n",
    "        \"export_docling_document_to_markdown\",\n",
    "    ]\n",
    ")\n"
   ]
  },
  {
   "cell_type": "markdown",
   "id": "fc7f0359",
   "metadata": {},
   "source": [
    "### Agentic RAG\n",
    "\n",
    "For large documents or, in general, for a corpus of documents, we can leverage the power of the Docling document conversion with Agentic RAG.\n",
    "\n",
    "During the ingestion with Docling, we will process the textual document components as well as the more complex structures like tables and figures.\n",
    "\n",
    "The Agentic RAG improves standard RAG pipelines in two ways:\n",
    "1. It lets the model rephrase the retrieval query.\n",
    "2. It enables the reasoning loop to decide if the retrieved context are good and sufficient, or if a second or a third retrieval iteration is needed."
   ]
  },
  {
   "cell_type": "code",
   "execution_count": 8,
   "id": "5f98c0e5",
   "metadata": {},
   "outputs": [
    {
     "name": "stderr",
     "output_type": "stream",
     "text": [
      "INFO:mcp.client.streamable_http:Received session ID: 21d459c020bd47abbcbe2d05161ca239\n",
      "INFO:mcp.client.streamable_http:Negotiated protocol version: 2025-06-18\n"
     ]
    },
    {
     "name": "stdout",
     "output_type": "stream",
     "text": [
      "Created session_id=35aa75ef-30d2-40f9-929d-17eb7edd0d60 for Agent(Document Agent)\n"
     ]
    },
    {
     "data": {
      "text/html": [
       "<pre style=\"white-space:pre;overflow-x:auto;line-height:normal;font-family:Menlo,'DejaVu Sans Mono',consolas,'Courier New',monospace\"><span style=\"color: #008080; text-decoration-color: #008080\">👤 User&gt; Ingest the document </span><span style=\"color: #008080; text-decoration-color: #008080; text-decoration: underline\">https://arxiv.org/pdf/2206.01062</span><span style=\"color: #008080; text-decoration-color: #008080\"> into the vectordb vs_</span><span style=\"color: #008080; text-decoration-color: #008080\">8530a661-4e22-475c-b7b5-aa59e9ffd7c7</span><span style=\"color: #008080; text-decoration-color: #008080\"> and answer the following questions: </span><span style=\"color: #008080; text-decoration-color: #008080; font-weight: bold\">1</span><span style=\"color: #008080; text-decoration-color: #008080; font-weight: bold\">)</span><span style=\"color: #008080; text-decoration-color: #008080\"> how many pages were manually annotated?</span>\n",
       "</pre>\n"
      ],
      "text/plain": [
       "\u001b[36m👤 User> Ingest the document \u001b[0m\u001b[4;36mhttps://arxiv.org/pdf/2206.01062\u001b[0m\u001b[36m into the vectordb vs_\u001b[0m\u001b[36m8530a661-4e22-475c-b7b5-aa59e9ffd7c7\u001b[0m\u001b[36m and answer the following questions: \u001b[0m\u001b[1;36m1\u001b[0m\u001b[1;36m)\u001b[0m\u001b[36m how many pages were manually annotated?\u001b[0m\n"
      ]
     },
     "metadata": {},
     "output_type": "display_data"
    },
    {
     "data": {
      "text/html": [
       "<pre style=\"white-space:pre;overflow-x:auto;line-height:normal;font-family:Menlo,'DejaVu Sans Mono',consolas,'Courier New',monospace\">Agent updated: Document Agent\n",
       "</pre>\n"
      ],
      "text/plain": [
       "Agent updated: Document Agent\n"
      ]
     },
     "metadata": {},
     "output_type": "display_data"
    },
    {
     "data": {
      "text/html": [
       "<pre style=\"white-space:pre;overflow-x:auto;line-height:normal;font-family:Menlo,'DejaVu Sans Mono',consolas,'Courier New',monospace\"><span style=\"color: #808000; text-decoration-color: #808000\">-- Tool was called: </span><span style=\"color: #808000; text-decoration-color: #808000; font-weight: bold\">convert_document_into_docling_document({</span><span style=\"color: #808000; text-decoration-color: #808000\">\"source\"</span><span style=\"color: #808000; text-decoration-color: #808000\">: </span><span style=\"color: #808000; text-decoration-color: #808000\">\"https://arxiv.org/pdf/2206.01062\"</span><span style=\"color: #808000; text-decoration-color: #808000; font-weight: bold\">})</span>\n",
       "</pre>\n"
      ],
      "text/plain": [
       "\u001b[33m-- Tool was called: \u001b[0m\u001b[1;33mconvert_document_into_docling_document\u001b[0m\u001b[1;33m(\u001b[0m\u001b[1;33m{\u001b[0m\u001b[33m\"source\"\u001b[0m\u001b[33m: \u001b[0m\u001b[33m\"https://arxiv.org/pdf/2206.01062\"\u001b[0m\u001b[1;33m}\u001b[0m\u001b[1;33m)\u001b[0m\n"
      ]
     },
     "metadata": {},
     "output_type": "display_data"
    },
    {
     "data": {
      "text/html": [
       "<pre style=\"white-space:pre;overflow-x:auto;line-height:normal;font-family:Menlo,'DejaVu Sans Mono',consolas,'Courier New',monospace\"><span style=\"color: #808000; text-decoration-color: #808000\">-- Tool output: </span><span style=\"color: #808000; text-decoration-color: #808000; font-weight: bold\">{</span><span style=\"color: #808000; text-decoration-color: #808000\">\"type\"</span><span style=\"color: #808000; text-decoration-color: #808000\">:</span><span style=\"color: #808000; text-decoration-color: #808000\">\"text\"</span><span style=\"color: #808000; text-decoration-color: #808000\">,</span><span style=\"color: #808000; text-decoration-color: #808000\">\"text\"</span><span style=\"color: #808000; text-decoration-color: #808000\">:</span><span style=\"color: #808000; text-decoration-color: #808000\">\"{\\n  \\\"from_cache\\\": true,\\n  \\\"document_key\\\": \\\"868f49ae1f0e66e82238a8aea43fd30b\\\"\\n}\"</span><span style=\"color: #808000; text-decoration-color: #808000\">,</span><span style=\"color: #808000; text-decoration-color: #808000\">\"annotations\"</span><span style=\"color: #808000; text-decoration-color: #808000\">:null,</span><span style=\"color: #808000; text-decoration-color: #808000\">\"meta\"</span><span style=\"color: #808000; text-decoration-color: #808000\">:null</span><span style=\"color: #808000; text-decoration-color: #808000; font-weight: bold\">}</span>\n",
       "</pre>\n"
      ],
      "text/plain": [
       "\u001b[33m-- Tool output: \u001b[0m\u001b[1;33m{\u001b[0m\u001b[33m\"type\"\u001b[0m\u001b[33m:\u001b[0m\u001b[33m\"text\"\u001b[0m\u001b[33m,\u001b[0m\u001b[33m\"text\"\u001b[0m\u001b[33m:\u001b[0m\u001b[33m\"\u001b[0m\u001b[33m{\u001b[0m\u001b[33m\\n  \\\"from_cache\\\": true,\\n  \\\"document_key\\\": \\\"868f49ae1f0e66e82238a8aea43fd30b\\\"\\n\u001b[0m\u001b[33m}\u001b[0m\u001b[33m\"\u001b[0m\u001b[33m,\u001b[0m\u001b[33m\"annotations\"\u001b[0m\u001b[33m:null,\u001b[0m\u001b[33m\"meta\"\u001b[0m\u001b[33m:null\u001b[0m\u001b[1;33m}\u001b[0m\n"
      ]
     },
     "metadata": {},
     "output_type": "display_data"
    },
    {
     "data": {
      "text/html": [
       "<pre style=\"white-space:pre;overflow-x:auto;line-height:normal;font-family:Menlo,'DejaVu Sans Mono',consolas,'Courier New',monospace\"><span style=\"color: #808000; text-decoration-color: #808000\">-- Tool was called: </span><span style=\"color: #808000; text-decoration-color: #808000; font-weight: bold\">insert_document_to_vectordb({</span><span style=\"color: #808000; text-decoration-color: #808000\">\"document_key\"</span><span style=\"color: #808000; text-decoration-color: #808000\">: </span><span style=\"color: #808000; text-decoration-color: #808000\">\"868f49ae1f0e66e82238a8aea43fd30b\"</span><span style=\"color: #808000; text-decoration-color: #808000\">, </span><span style=\"color: #808000; text-decoration-color: #808000\">\"vector_db_id\"</span><span style=\"color: #808000; text-decoration-color: #808000\">: </span><span style=\"color: #808000; text-decoration-color: #808000\">\"vs_8530a661-4e22-475c-b7b5-aa59e9ffd7c7\"</span><span style=\"color: #808000; text-decoration-color: #808000; font-weight: bold\">})</span>\n",
       "</pre>\n"
      ],
      "text/plain": [
       "\u001b[33m-- Tool was called: \u001b[0m\u001b[1;33minsert_document_to_vectordb\u001b[0m\u001b[1;33m(\u001b[0m\u001b[1;33m{\u001b[0m\u001b[33m\"document_key\"\u001b[0m\u001b[33m: \u001b[0m\u001b[33m\"868f49ae1f0e66e82238a8aea43fd30b\"\u001b[0m\u001b[33m, \u001b[0m\u001b[33m\"vector_db_id\"\u001b[0m\u001b[33m: \u001b[0m\u001b[33m\"vs_8530a661-4e22-475c-b7b5-aa59e9ffd7c7\"\u001b[0m\u001b[1;33m}\u001b[0m\u001b[1;33m)\u001b[0m\n"
      ]
     },
     "metadata": {},
     "output_type": "display_data"
    },
    {
     "data": {
      "text/html": [
       "<pre style=\"white-space:pre;overflow-x:auto;line-height:normal;font-family:Menlo,'DejaVu Sans Mono',consolas,'Courier New',monospace\"><span style=\"color: #808000; text-decoration-color: #808000\">-- Tool output: </span><span style=\"color: #808000; text-decoration-color: #808000; font-weight: bold\">{</span><span style=\"color: #808000; text-decoration-color: #808000\">\"type\"</span><span style=\"color: #808000; text-decoration-color: #808000\">:</span><span style=\"color: #808000; text-decoration-color: #808000\">\"text\"</span><span style=\"color: #808000; text-decoration-color: #808000\">,</span><span style=\"color: #808000; text-decoration-color: #808000\">\"text\"</span><span style=\"color: #808000; text-decoration-color: #808000\">:</span><span style=\"color: #808000; text-decoration-color: #808000\">\"{\\n  \\\"vector_db_id\\\": \\\"vs_8530a661-4e22-475c-b7b5-aa59e9ffd7c7\\\"\\n}\"</span><span style=\"color: #808000; text-decoration-color: #808000\">,</span><span style=\"color: #808000; text-decoration-color: #808000\">\"annotations\"</span><span style=\"color: #808000; text-decoration-color: #808000\">:null,</span><span style=\"color: #808000; text-decoration-color: #808000\">\"meta\"</span><span style=\"color: #808000; text-decoration-color: #808000\">:null</span><span style=\"color: #808000; text-decoration-color: #808000; font-weight: bold\">}</span>\n",
       "</pre>\n"
      ],
      "text/plain": [
       "\u001b[33m-- Tool output: \u001b[0m\u001b[1;33m{\u001b[0m\u001b[33m\"type\"\u001b[0m\u001b[33m:\u001b[0m\u001b[33m\"text\"\u001b[0m\u001b[33m,\u001b[0m\u001b[33m\"text\"\u001b[0m\u001b[33m:\u001b[0m\u001b[33m\"\u001b[0m\u001b[33m{\u001b[0m\u001b[33m\\n  \\\"vector_db_id\\\": \\\"vs_8530a661-4e22-475c-b7b5-aa59e9ffd7c7\\\"\\n\u001b[0m\u001b[33m}\u001b[0m\u001b[33m\"\u001b[0m\u001b[33m,\u001b[0m\u001b[33m\"annotations\"\u001b[0m\u001b[33m:null,\u001b[0m\u001b[33m\"meta\"\u001b[0m\u001b[33m:null\u001b[0m\u001b[1;33m}\u001b[0m\n"
      ]
     },
     "metadata": {},
     "output_type": "display_data"
    },
    {
     "data": {
      "text/html": [
       "<pre style=\"white-space:pre;overflow-x:auto;line-height:normal;font-family:Menlo,'DejaVu Sans Mono',consolas,'Courier New',monospace\"><span style=\"color: #008000; text-decoration-color: #008000\">🤖 Assistant&gt;</span>\n",
       "</pre>\n"
      ],
      "text/plain": [
       "\u001b[32m🤖 Assistant>\u001b[0m\n"
      ]
     },
     "metadata": {},
     "output_type": "display_data"
    },
    {
     "data": {
      "text/html": [
       "<pre style=\"white-space:pre;overflow-x:auto;line-height:normal;font-family:Menlo,'DejaVu Sans Mono',consolas,'Courier New',monospace\">The number of pages that were manually annotated is 80,000.\n",
       "</pre>\n"
      ],
      "text/plain": [
       "The number of pages that were manually annotated is 80,000.\n"
      ]
     },
     "metadata": {},
     "output_type": "display_data"
    }
   ],
   "source": [
    "# Create a vectordb index in Llama Stack\n",
    "vdb_id_resp = lls_client.vector_dbs.register(\n",
    "    vector_db_id=(vdb_name := f\"testdb_{uuid.uuid4()}\"),\n",
    "    embedding_model=\"sentence-transformers/all-MiniLM-L6-v2\",\n",
    "    embedding_dimension=384,\n",
    "    provider_id=\"milvus\",\n",
    ")\n",
    "vdb_id = vdb_id_resp.identifier\n",
    "\n",
    "# Instruct the agent to ingest the data in the index and use it for querying.\n",
    "await run_agent(\n",
    "    queries=[\n",
    "        f\"Ingest the document https://arxiv.org/pdf/2206.01062 into the vectordb {vdb_id} and answer the following questions: 1) how many pages were manually annotated?\",\n",
    "    ],\n",
    "    extra_tools=[\n",
    "        FileSearchTool(vector_store_ids=[vdb_id])\n",
    "    ],\n",
    "    allowed_tools=[\n",
    "        \"convert_document_into_docling_document\",\n",
    "        \"insert_document_to_vectordb\",\n",
    "    ],\n",
    ")\n"
   ]
  },
  {
   "cell_type": "markdown",
   "id": "69b20a21",
   "metadata": {},
   "source": [
    "---"
   ]
  },
  {
   "cell_type": "markdown",
   "id": "62856883",
   "metadata": {},
   "source": [
    "## 2. Create a document\n",
    "\n",
    "Docling MCP can also be used to have a model write a complex document directly in the **DoclingDocument** format, which can then be exported to many outputs (Markdown, HTML, LaTeX, etc.).\n",
    "\n",
    "In the following example, we give the agent only the topic and the high‑level structure of the document. The agent is responsible for filling out the rest."
   ]
  },
  {
   "cell_type": "code",
   "execution_count": 9,
   "id": "798d81a2",
   "metadata": {},
   "outputs": [
    {
     "name": "stderr",
     "output_type": "stream",
     "text": [
      "INFO:mcp.client.streamable_http:Received session ID: 3dac9bcf18f54919a42cd9d7bff942a4\n",
      "INFO:mcp.client.streamable_http:Negotiated protocol version: 2025-06-18\n"
     ]
    },
    {
     "name": "stdout",
     "output_type": "stream",
     "text": [
      "Created session_id=89216e19-8799-4efe-83fc-b956f1a257f1 for Agent(Document Agent)\n"
     ]
    },
    {
     "data": {
      "text/html": [
       "<pre style=\"white-space:pre;overflow-x:auto;line-height:normal;font-family:Menlo,'DejaVu Sans Mono',consolas,'Courier New',monospace\"><span style=\"color: #008080; text-decoration-color: #008080\">👤 User&gt; Create a new Docling document with the title </span><span style=\"color: #008080; text-decoration-color: #008080\">\"Open-Source Agentic AI\"</span><span style=\"color: #008080; text-decoration-color: #008080\">, a paragraph, and a list of the main applications. Show the result in valid markdown.</span>\n",
       "</pre>\n"
      ],
      "text/plain": [
       "\u001b[36m👤 User> Create a new Docling document with the title \u001b[0m\u001b[36m\"Open-Source Agentic AI\"\u001b[0m\u001b[36m, a paragraph, and a list of the main applications. Show the result in valid markdown.\u001b[0m\n"
      ]
     },
     "metadata": {},
     "output_type": "display_data"
    },
    {
     "data": {
      "text/html": [
       "<pre style=\"white-space:pre;overflow-x:auto;line-height:normal;font-family:Menlo,'DejaVu Sans Mono',consolas,'Courier New',monospace\">Agent updated: Document Agent\n",
       "</pre>\n"
      ],
      "text/plain": [
       "Agent updated: Document Agent\n"
      ]
     },
     "metadata": {},
     "output_type": "display_data"
    },
    {
     "data": {
      "text/html": [
       "<pre style=\"white-space:pre;overflow-x:auto;line-height:normal;font-family:Menlo,'DejaVu Sans Mono',consolas,'Courier New',monospace\"><span style=\"color: #808000; text-decoration-color: #808000\">-- Tool was called: </span><span style=\"color: #808000; text-decoration-color: #808000; font-weight: bold\">create_new_docling_document({</span><span style=\"color: #808000; text-decoration-color: #808000\">\"prompt\"</span><span style=\"color: #808000; text-decoration-color: #808000\">: </span><span style=\"color: #808000; text-decoration-color: #808000\">\"Open-Source Agentic AI\"</span><span style=\"color: #808000; text-decoration-color: #808000; font-weight: bold\">})</span>\n",
       "</pre>\n"
      ],
      "text/plain": [
       "\u001b[33m-- Tool was called: \u001b[0m\u001b[1;33mcreate_new_docling_document\u001b[0m\u001b[1;33m(\u001b[0m\u001b[1;33m{\u001b[0m\u001b[33m\"prompt\"\u001b[0m\u001b[33m: \u001b[0m\u001b[33m\"Open-Source Agentic AI\"\u001b[0m\u001b[1;33m}\u001b[0m\u001b[1;33m)\u001b[0m\n"
      ]
     },
     "metadata": {},
     "output_type": "display_data"
    },
    {
     "data": {
      "text/html": [
       "<pre style=\"white-space:pre;overflow-x:auto;line-height:normal;font-family:Menlo,'DejaVu Sans Mono',consolas,'Courier New',monospace\"><span style=\"color: #808000; text-decoration-color: #808000\">-- Tool output: </span><span style=\"color: #808000; text-decoration-color: #808000; font-weight: bold\">{</span><span style=\"color: #808000; text-decoration-color: #808000\">\"type\"</span><span style=\"color: #808000; text-decoration-color: #808000\">:</span><span style=\"color: #808000; text-decoration-color: #808000\">\"text\"</span><span style=\"color: #808000; text-decoration-color: #808000\">,</span><span style=\"color: #808000; text-decoration-color: #808000\">\"text\"</span><span style=\"color: #808000; text-decoration-color: #808000\">:</span><span style=\"color: #808000; text-decoration-color: #808000\">\"{\\n  \\\"document_key\\\": \\\"a037febe42754c718470f24b1e487780\\\",\\n  \\\"prompt\\\": \\\"Open-Source Agentic AI\\\"\\n}\"</span><span style=\"color: #808000; text-decoration-color: #808000\">,</span><span style=\"color: #808000; text-decoration-color: #808000\">\"annotations\"</span><span style=\"color: #808000; text-decoration-color: #808000\">:null,</span><span style=\"color: #808000; text-decoration-color: #808000\">\"meta\"</span><span style=\"color: #808000; text-decoration-color: #808000\">:null</span><span style=\"color: #808000; text-decoration-color: #808000; font-weight: bold\">}</span>\n",
       "</pre>\n"
      ],
      "text/plain": [
       "\u001b[33m-- Tool output: \u001b[0m\u001b[1;33m{\u001b[0m\u001b[33m\"type\"\u001b[0m\u001b[33m:\u001b[0m\u001b[33m\"text\"\u001b[0m\u001b[33m,\u001b[0m\u001b[33m\"text\"\u001b[0m\u001b[33m:\u001b[0m\u001b[33m\"\u001b[0m\u001b[33m{\u001b[0m\u001b[33m\\n  \\\"document_key\\\": \\\"a037febe42754c718470f24b1e487780\\\",\\n  \\\"prompt\\\": \\\"Open-Source Agentic AI\\\"\\n\u001b[0m\u001b[33m}\u001b[0m\u001b[33m\"\u001b[0m\u001b[33m,\u001b[0m\u001b[33m\"annotations\"\u001b[0m\u001b[33m:null,\u001b[0m\u001b[33m\"meta\"\u001b[0m\u001b[33m:null\u001b[0m\u001b[1;33m}\u001b[0m\n"
      ]
     },
     "metadata": {},
     "output_type": "display_data"
    },
    {
     "data": {
      "text/html": [
       "<pre style=\"white-space:pre;overflow-x:auto;line-height:normal;font-family:Menlo,'DejaVu Sans Mono',consolas,'Courier New',monospace\"><span style=\"color: #808000; text-decoration-color: #808000\">-- Tool was called: </span><span style=\"color: #808000; text-decoration-color: #808000; font-weight: bold\">add_title_to_docling_document({</span><span style=\"color: #808000; text-decoration-color: #808000\">\"document_key\"</span><span style=\"color: #808000; text-decoration-color: #808000\">: </span><span style=\"color: #808000; text-decoration-color: #808000\">\"a037febe42754c718470f24b1e487780\"</span><span style=\"color: #808000; text-decoration-color: #808000\">, </span><span style=\"color: #808000; text-decoration-color: #808000\">\"title\"</span><span style=\"color: #808000; text-decoration-color: #808000\">: </span><span style=\"color: #808000; text-decoration-color: #808000\">\"Open-Source Agentic AI\"</span><span style=\"color: #808000; text-decoration-color: #808000; font-weight: bold\">})</span>\n",
       "</pre>\n"
      ],
      "text/plain": [
       "\u001b[33m-- Tool was called: \u001b[0m\u001b[1;33madd_title_to_docling_document\u001b[0m\u001b[1;33m(\u001b[0m\u001b[1;33m{\u001b[0m\u001b[33m\"document_key\"\u001b[0m\u001b[33m: \u001b[0m\u001b[33m\"a037febe42754c718470f24b1e487780\"\u001b[0m\u001b[33m, \u001b[0m\u001b[33m\"title\"\u001b[0m\u001b[33m: \u001b[0m\u001b[33m\"Open-Source Agentic AI\"\u001b[0m\u001b[1;33m}\u001b[0m\u001b[1;33m)\u001b[0m\n"
      ]
     },
     "metadata": {},
     "output_type": "display_data"
    },
    {
     "data": {
      "text/html": [
       "<pre style=\"white-space:pre;overflow-x:auto;line-height:normal;font-family:Menlo,'DejaVu Sans Mono',consolas,'Courier New',monospace\"><span style=\"color: #808000; text-decoration-color: #808000\">-- Tool output: </span><span style=\"color: #808000; text-decoration-color: #808000; font-weight: bold\">{</span><span style=\"color: #808000; text-decoration-color: #808000\">\"type\"</span><span style=\"color: #808000; text-decoration-color: #808000\">:</span><span style=\"color: #808000; text-decoration-color: #808000\">\"text\"</span><span style=\"color: #808000; text-decoration-color: #808000\">,</span><span style=\"color: #808000; text-decoration-color: #808000\">\"text\"</span><span style=\"color: #808000; text-decoration-color: #808000\">:</span><span style=\"color: #808000; text-decoration-color: #808000\">\"{\\n  \\\"document_key\\\": \\\"a037febe42754c718470f24b1e487780\\\"\\n}\"</span><span style=\"color: #808000; text-decoration-color: #808000\">,</span><span style=\"color: #808000; text-decoration-color: #808000\">\"annotations\"</span><span style=\"color: #808000; text-decoration-color: #808000\">:null,</span><span style=\"color: #808000; text-decoration-color: #808000\">\"meta\"</span><span style=\"color: #808000; text-decoration-color: #808000\">:null</span><span style=\"color: #808000; text-decoration-color: #808000; font-weight: bold\">}</span>\n",
       "</pre>\n"
      ],
      "text/plain": [
       "\u001b[33m-- Tool output: \u001b[0m\u001b[1;33m{\u001b[0m\u001b[33m\"type\"\u001b[0m\u001b[33m:\u001b[0m\u001b[33m\"text\"\u001b[0m\u001b[33m,\u001b[0m\u001b[33m\"text\"\u001b[0m\u001b[33m:\u001b[0m\u001b[33m\"\u001b[0m\u001b[33m{\u001b[0m\u001b[33m\\n  \\\"document_key\\\": \\\"a037febe42754c718470f24b1e487780\\\"\\n\u001b[0m\u001b[33m}\u001b[0m\u001b[33m\"\u001b[0m\u001b[33m,\u001b[0m\u001b[33m\"annotations\"\u001b[0m\u001b[33m:null,\u001b[0m\u001b[33m\"meta\"\u001b[0m\u001b[33m:null\u001b[0m\u001b[1;33m}\u001b[0m\n"
      ]
     },
     "metadata": {},
     "output_type": "display_data"
    },
    {
     "data": {
      "text/html": [
       "<pre style=\"white-space:pre;overflow-x:auto;line-height:normal;font-family:Menlo,'DejaVu Sans Mono',consolas,'Courier New',monospace\"><span style=\"color: #808000; text-decoration-color: #808000\">-- Tool was called: </span><span style=\"color: #808000; text-decoration-color: #808000; font-weight: bold\">add_paragraph_to_docling_document({</span><span style=\"color: #808000; text-decoration-color: #808000\">\"document_key\"</span><span style=\"color: #808000; text-decoration-color: #808000\">: </span><span style=\"color: #808000; text-decoration-color: #808000\">\"a037febe42754c718470f24b1e487780\"</span><span style=\"color: #808000; text-decoration-color: #808000\">, </span><span style=\"color: #808000; text-decoration-color: #808000\">\"paragraph\"</span><span style=\"color: #808000; text-decoration-color: #808000\">: </span><span style=\"color: #808000; text-decoration-color: #808000\">\"Open-Source Agentic AI is a type of artificial intelligence that is designed to be open-source and accessible to everyone.\"</span><span style=\"color: #808000; text-decoration-color: #808000; font-weight: bold\">})</span>\n",
       "</pre>\n"
      ],
      "text/plain": [
       "\u001b[33m-- Tool was called: \u001b[0m\u001b[1;33madd_paragraph_to_docling_document\u001b[0m\u001b[1;33m(\u001b[0m\u001b[1;33m{\u001b[0m\u001b[33m\"document_key\"\u001b[0m\u001b[33m: \u001b[0m\u001b[33m\"a037febe42754c718470f24b1e487780\"\u001b[0m\u001b[33m, \u001b[0m\u001b[33m\"paragraph\"\u001b[0m\u001b[33m: \u001b[0m\u001b[33m\"Open-Source Agentic AI is a type of artificial intelligence that is designed to be open-source and accessible to everyone.\"\u001b[0m\u001b[1;33m}\u001b[0m\u001b[1;33m)\u001b[0m\n"
      ]
     },
     "metadata": {},
     "output_type": "display_data"
    },
    {
     "data": {
      "text/html": [
       "<pre style=\"white-space:pre;overflow-x:auto;line-height:normal;font-family:Menlo,'DejaVu Sans Mono',consolas,'Courier New',monospace\"><span style=\"color: #808000; text-decoration-color: #808000\">-- Tool output: </span><span style=\"color: #808000; text-decoration-color: #808000; font-weight: bold\">{</span><span style=\"color: #808000; text-decoration-color: #808000\">\"type\"</span><span style=\"color: #808000; text-decoration-color: #808000\">:</span><span style=\"color: #808000; text-decoration-color: #808000\">\"text\"</span><span style=\"color: #808000; text-decoration-color: #808000\">,</span><span style=\"color: #808000; text-decoration-color: #808000\">\"text\"</span><span style=\"color: #808000; text-decoration-color: #808000\">:</span><span style=\"color: #808000; text-decoration-color: #808000\">\"{\\n  \\\"document_key\\\": \\\"a037febe42754c718470f24b1e487780\\\"\\n}\"</span><span style=\"color: #808000; text-decoration-color: #808000\">,</span><span style=\"color: #808000; text-decoration-color: #808000\">\"annotations\"</span><span style=\"color: #808000; text-decoration-color: #808000\">:null,</span><span style=\"color: #808000; text-decoration-color: #808000\">\"meta\"</span><span style=\"color: #808000; text-decoration-color: #808000\">:null</span><span style=\"color: #808000; text-decoration-color: #808000; font-weight: bold\">}</span>\n",
       "</pre>\n"
      ],
      "text/plain": [
       "\u001b[33m-- Tool output: \u001b[0m\u001b[1;33m{\u001b[0m\u001b[33m\"type\"\u001b[0m\u001b[33m:\u001b[0m\u001b[33m\"text\"\u001b[0m\u001b[33m,\u001b[0m\u001b[33m\"text\"\u001b[0m\u001b[33m:\u001b[0m\u001b[33m\"\u001b[0m\u001b[33m{\u001b[0m\u001b[33m\\n  \\\"document_key\\\": \\\"a037febe42754c718470f24b1e487780\\\"\\n\u001b[0m\u001b[33m}\u001b[0m\u001b[33m\"\u001b[0m\u001b[33m,\u001b[0m\u001b[33m\"annotations\"\u001b[0m\u001b[33m:null,\u001b[0m\u001b[33m\"meta\"\u001b[0m\u001b[33m:null\u001b[0m\u001b[1;33m}\u001b[0m\n"
      ]
     },
     "metadata": {},
     "output_type": "display_data"
    },
    {
     "data": {
      "text/html": [
       "<pre style=\"white-space:pre;overflow-x:auto;line-height:normal;font-family:Menlo,'DejaVu Sans Mono',consolas,'Courier New',monospace\"><span style=\"color: #808000; text-decoration-color: #808000\">-- Tool was called: </span><span style=\"color: #808000; text-decoration-color: #808000; font-weight: bold\">open_list_in_docling_document({</span><span style=\"color: #808000; text-decoration-color: #808000\">\"document_key\"</span><span style=\"color: #808000; text-decoration-color: #808000\">: </span><span style=\"color: #808000; text-decoration-color: #808000\">\"a037febe42754c718470f24b1e487780\"</span><span style=\"color: #808000; text-decoration-color: #808000; font-weight: bold\">})</span>\n",
       "</pre>\n"
      ],
      "text/plain": [
       "\u001b[33m-- Tool was called: \u001b[0m\u001b[1;33mopen_list_in_docling_document\u001b[0m\u001b[1;33m(\u001b[0m\u001b[1;33m{\u001b[0m\u001b[33m\"document_key\"\u001b[0m\u001b[33m: \u001b[0m\u001b[33m\"a037febe42754c718470f24b1e487780\"\u001b[0m\u001b[1;33m}\u001b[0m\u001b[1;33m)\u001b[0m\n"
      ]
     },
     "metadata": {},
     "output_type": "display_data"
    },
    {
     "data": {
      "text/html": [
       "<pre style=\"white-space:pre;overflow-x:auto;line-height:normal;font-family:Menlo,'DejaVu Sans Mono',consolas,'Courier New',monospace\"><span style=\"color: #808000; text-decoration-color: #808000\">-- Tool output: </span><span style=\"color: #808000; text-decoration-color: #808000; font-weight: bold\">{</span><span style=\"color: #808000; text-decoration-color: #808000\">\"type\"</span><span style=\"color: #808000; text-decoration-color: #808000\">:</span><span style=\"color: #808000; text-decoration-color: #808000\">\"text\"</span><span style=\"color: #808000; text-decoration-color: #808000\">,</span><span style=\"color: #808000; text-decoration-color: #808000\">\"text\"</span><span style=\"color: #808000; text-decoration-color: #808000\">:</span><span style=\"color: #808000; text-decoration-color: #808000\">\"{\\n  \\\"document_key\\\": \\\"a037febe42754c718470f24b1e487780\\\"\\n}\"</span><span style=\"color: #808000; text-decoration-color: #808000\">,</span><span style=\"color: #808000; text-decoration-color: #808000\">\"annotations\"</span><span style=\"color: #808000; text-decoration-color: #808000\">:null,</span><span style=\"color: #808000; text-decoration-color: #808000\">\"meta\"</span><span style=\"color: #808000; text-decoration-color: #808000\">:null</span><span style=\"color: #808000; text-decoration-color: #808000; font-weight: bold\">}</span>\n",
       "</pre>\n"
      ],
      "text/plain": [
       "\u001b[33m-- Tool output: \u001b[0m\u001b[1;33m{\u001b[0m\u001b[33m\"type\"\u001b[0m\u001b[33m:\u001b[0m\u001b[33m\"text\"\u001b[0m\u001b[33m,\u001b[0m\u001b[33m\"text\"\u001b[0m\u001b[33m:\u001b[0m\u001b[33m\"\u001b[0m\u001b[33m{\u001b[0m\u001b[33m\\n  \\\"document_key\\\": \\\"a037febe42754c718470f24b1e487780\\\"\\n\u001b[0m\u001b[33m}\u001b[0m\u001b[33m\"\u001b[0m\u001b[33m,\u001b[0m\u001b[33m\"annotations\"\u001b[0m\u001b[33m:null,\u001b[0m\u001b[33m\"meta\"\u001b[0m\u001b[33m:null\u001b[0m\u001b[1;33m}\u001b[0m\n"
      ]
     },
     "metadata": {},
     "output_type": "display_data"
    },
    {
     "data": {
      "text/html": [
       "<pre style=\"white-space:pre;overflow-x:auto;line-height:normal;font-family:Menlo,'DejaVu Sans Mono',consolas,'Courier New',monospace\"><span style=\"color: #808000; text-decoration-color: #808000\">-- Tool was called: </span><span style=\"color: #808000; text-decoration-color: #808000; font-weight: bold\">add_list_items_to_list_in_docling_document({</span><span style=\"color: #808000; text-decoration-color: #808000\">\"document_key\"</span><span style=\"color: #808000; text-decoration-color: #808000\">: </span><span style=\"color: #808000; text-decoration-color: #808000\">\"a037febe42754c718470f24b1e487780\"</span><span style=\"color: #808000; text-decoration-color: #808000\">, </span><span style=\"color: #808000; text-decoration-color: #808000\">\"list_items\"</span><span style=\"color: #808000; text-decoration-color: #808000\">: </span><span style=\"color: #808000; text-decoration-color: #808000\">\"[{\\\"list_item_text\\\": \\\"Virtual assistants\\\", \\\"list_marker_text\\\": \\\"*\\\"}, {\\\"list_item_text\\\": \\\"Chatbots\\\", \\\"list_marker_text\\\": \\\"*\\\"}, {\\\"list_item_text\\\": \\\"Language translation software\\\", \\\"list_marker_text\\\": \\\"*\\\"}]\"</span><span style=\"color: #808000; text-decoration-color: #808000; font-weight: bold\">})</span>\n",
       "</pre>\n"
      ],
      "text/plain": [
       "\u001b[33m-- Tool was called: \u001b[0m\u001b[1;33madd_list_items_to_list_in_docling_document\u001b[0m\u001b[1;33m(\u001b[0m\u001b[1;33m{\u001b[0m\u001b[33m\"document_key\"\u001b[0m\u001b[33m: \u001b[0m\u001b[33m\"a037febe42754c718470f24b1e487780\"\u001b[0m\u001b[33m, \u001b[0m\u001b[33m\"list_items\"\u001b[0m\u001b[33m: \u001b[0m\u001b[33m\"\u001b[0m\u001b[33m[\u001b[0m\u001b[33m{\u001b[0m\u001b[33m\\\"list_item_text\\\": \\\"Virtual assistants\\\", \\\"list_marker_text\\\": \\\"*\\\"\u001b[0m\u001b[33m}\u001b[0m\u001b[33m, \u001b[0m\u001b[33m{\u001b[0m\u001b[33m\\\"list_item_text\\\": \\\"Chatbots\\\", \\\"list_marker_text\\\": \\\"*\\\"\u001b[0m\u001b[33m}\u001b[0m\u001b[33m, \u001b[0m\u001b[33m{\u001b[0m\u001b[33m\\\"list_item_text\\\": \\\"Language translation software\\\", \\\"list_marker_text\\\": \\\"*\\\"\u001b[0m\u001b[33m}\u001b[0m\u001b[33m]\u001b[0m\u001b[33m\"\u001b[0m\u001b[1;33m}\u001b[0m\u001b[1;33m)\u001b[0m\n"
      ]
     },
     "metadata": {},
     "output_type": "display_data"
    },
    {
     "data": {
      "text/html": [
       "<pre style=\"white-space:pre;overflow-x:auto;line-height:normal;font-family:Menlo,'DejaVu Sans Mono',consolas,'Courier New',monospace\"><span style=\"color: #808000; text-decoration-color: #808000\">-- Tool output: </span><span style=\"color: #808000; text-decoration-color: #808000; font-weight: bold\">{</span><span style=\"color: #808000; text-decoration-color: #808000\">\"type\"</span><span style=\"color: #808000; text-decoration-color: #808000\">:</span><span style=\"color: #808000; text-decoration-color: #808000\">\"text\"</span><span style=\"color: #808000; text-decoration-color: #808000\">,</span><span style=\"color: #808000; text-decoration-color: #808000\">\"text\"</span><span style=\"color: #808000; text-decoration-color: #808000\">:</span><span style=\"color: #808000; text-decoration-color: #808000\">\"{\\n  \\\"document_key\\\": \\\"a037febe42754c718470f24b1e487780\\\"\\n}\"</span><span style=\"color: #808000; text-decoration-color: #808000\">,</span><span style=\"color: #808000; text-decoration-color: #808000\">\"annotations\"</span><span style=\"color: #808000; text-decoration-color: #808000\">:null,</span><span style=\"color: #808000; text-decoration-color: #808000\">\"meta\"</span><span style=\"color: #808000; text-decoration-color: #808000\">:null</span><span style=\"color: #808000; text-decoration-color: #808000; font-weight: bold\">}</span>\n",
       "</pre>\n"
      ],
      "text/plain": [
       "\u001b[33m-- Tool output: \u001b[0m\u001b[1;33m{\u001b[0m\u001b[33m\"type\"\u001b[0m\u001b[33m:\u001b[0m\u001b[33m\"text\"\u001b[0m\u001b[33m,\u001b[0m\u001b[33m\"text\"\u001b[0m\u001b[33m:\u001b[0m\u001b[33m\"\u001b[0m\u001b[33m{\u001b[0m\u001b[33m\\n  \\\"document_key\\\": \\\"a037febe42754c718470f24b1e487780\\\"\\n\u001b[0m\u001b[33m}\u001b[0m\u001b[33m\"\u001b[0m\u001b[33m,\u001b[0m\u001b[33m\"annotations\"\u001b[0m\u001b[33m:null,\u001b[0m\u001b[33m\"meta\"\u001b[0m\u001b[33m:null\u001b[0m\u001b[1;33m}\u001b[0m\n"
      ]
     },
     "metadata": {},
     "output_type": "display_data"
    },
    {
     "data": {
      "text/html": [
       "<pre style=\"white-space:pre;overflow-x:auto;line-height:normal;font-family:Menlo,'DejaVu Sans Mono',consolas,'Courier New',monospace\"><span style=\"color: #808000; text-decoration-color: #808000\">-- Tool was called: </span><span style=\"color: #808000; text-decoration-color: #808000; font-weight: bold\">close_list_in_docling_document({</span><span style=\"color: #808000; text-decoration-color: #808000\">\"document_key\"</span><span style=\"color: #808000; text-decoration-color: #808000\">: </span><span style=\"color: #808000; text-decoration-color: #808000\">\"a037febe42754c718470f24b1e487780\"</span><span style=\"color: #808000; text-decoration-color: #808000; font-weight: bold\">})</span>\n",
       "</pre>\n"
      ],
      "text/plain": [
       "\u001b[33m-- Tool was called: \u001b[0m\u001b[1;33mclose_list_in_docling_document\u001b[0m\u001b[1;33m(\u001b[0m\u001b[1;33m{\u001b[0m\u001b[33m\"document_key\"\u001b[0m\u001b[33m: \u001b[0m\u001b[33m\"a037febe42754c718470f24b1e487780\"\u001b[0m\u001b[1;33m}\u001b[0m\u001b[1;33m)\u001b[0m\n"
      ]
     },
     "metadata": {},
     "output_type": "display_data"
    },
    {
     "data": {
      "text/html": [
       "<pre style=\"white-space:pre;overflow-x:auto;line-height:normal;font-family:Menlo,'DejaVu Sans Mono',consolas,'Courier New',monospace\"><span style=\"color: #808000; text-decoration-color: #808000\">-- Tool output: </span><span style=\"color: #808000; text-decoration-color: #808000; font-weight: bold\">{</span><span style=\"color: #808000; text-decoration-color: #808000\">\"type\"</span><span style=\"color: #808000; text-decoration-color: #808000\">:</span><span style=\"color: #808000; text-decoration-color: #808000\">\"text\"</span><span style=\"color: #808000; text-decoration-color: #808000\">,</span><span style=\"color: #808000; text-decoration-color: #808000\">\"text\"</span><span style=\"color: #808000; text-decoration-color: #808000\">:</span><span style=\"color: #808000; text-decoration-color: #808000\">\"{\\n  \\\"document_key\\\": \\\"a037febe42754c718470f24b1e487780\\\"\\n}\"</span><span style=\"color: #808000; text-decoration-color: #808000\">,</span><span style=\"color: #808000; text-decoration-color: #808000\">\"annotations\"</span><span style=\"color: #808000; text-decoration-color: #808000\">:null,</span><span style=\"color: #808000; text-decoration-color: #808000\">\"meta\"</span><span style=\"color: #808000; text-decoration-color: #808000\">:null</span><span style=\"color: #808000; text-decoration-color: #808000; font-weight: bold\">}</span>\n",
       "</pre>\n"
      ],
      "text/plain": [
       "\u001b[33m-- Tool output: \u001b[0m\u001b[1;33m{\u001b[0m\u001b[33m\"type\"\u001b[0m\u001b[33m:\u001b[0m\u001b[33m\"text\"\u001b[0m\u001b[33m,\u001b[0m\u001b[33m\"text\"\u001b[0m\u001b[33m:\u001b[0m\u001b[33m\"\u001b[0m\u001b[33m{\u001b[0m\u001b[33m\\n  \\\"document_key\\\": \\\"a037febe42754c718470f24b1e487780\\\"\\n\u001b[0m\u001b[33m}\u001b[0m\u001b[33m\"\u001b[0m\u001b[33m,\u001b[0m\u001b[33m\"annotations\"\u001b[0m\u001b[33m:null,\u001b[0m\u001b[33m\"meta\"\u001b[0m\u001b[33m:null\u001b[0m\u001b[1;33m}\u001b[0m\n"
      ]
     },
     "metadata": {},
     "output_type": "display_data"
    },
    {
     "data": {
      "text/html": [
       "<pre style=\"white-space:pre;overflow-x:auto;line-height:normal;font-family:Menlo,'DejaVu Sans Mono',consolas,'Courier New',monospace\"><span style=\"color: #808000; text-decoration-color: #808000\">-- Tool was called: </span><span style=\"color: #808000; text-decoration-color: #808000; font-weight: bold\">export_docling_document_to_markdown({</span><span style=\"color: #808000; text-decoration-color: #808000\">\"document_key\"</span><span style=\"color: #808000; text-decoration-color: #808000\">: </span><span style=\"color: #808000; text-decoration-color: #808000\">\"a037febe42754c718470f24b1e487780\"</span><span style=\"color: #808000; text-decoration-color: #808000; font-weight: bold\">})</span>\n",
       "</pre>\n"
      ],
      "text/plain": [
       "\u001b[33m-- Tool was called: \u001b[0m\u001b[1;33mexport_docling_document_to_markdown\u001b[0m\u001b[1;33m(\u001b[0m\u001b[1;33m{\u001b[0m\u001b[33m\"document_key\"\u001b[0m\u001b[33m: \u001b[0m\u001b[33m\"a037febe42754c718470f24b1e487780\"\u001b[0m\u001b[1;33m}\u001b[0m\u001b[1;33m)\u001b[0m\n"
      ]
     },
     "metadata": {},
     "output_type": "display_data"
    },
    {
     "data": {
      "text/html": [
       "<pre style=\"white-space:pre;overflow-x:auto;line-height:normal;font-family:Menlo,'DejaVu Sans Mono',consolas,'Courier New',monospace\"><span style=\"color: #808000; text-decoration-color: #808000\">-- Tool output: </span><span style=\"color: #808000; text-decoration-color: #808000; font-weight: bold\">{</span><span style=\"color: #808000; text-decoration-color: #808000\">\"type\"</span><span style=\"color: #808000; text-decoration-color: #808000\">:</span><span style=\"color: #808000; text-decoration-color: #808000\">\"text\"</span><span style=\"color: #808000; text-decoration-color: #808000\">,</span><span style=\"color: #808000; text-decoration-color: #808000\">\"text\"</span><span style=\"color: #808000; text-decoration-color: #808000\">:</span><span style=\"color: #808000; text-decoration-color: #808000\">\"{\\n  \\\"document_key\\\": \\\"a037febe42754c718470f24b1e487780\\\",\\n  \\\"markdown\\\": \\\"# Open-Source Agentic AI\\\\n\\\\nOpen-Source Agentic AI is a type of artificial intelligence that is designed to be open-source and accessible to everyone.\\\\n\\\\n* Virtual assistants\\\\n* Chatbots\\\\n* Language translation software\\\"\\n}\"</span><span style=\"color: #808000; text-decoration-color: #808000\">,</span><span style=\"color: #808000; text-decoration-color: #808000\">\"annotations\"</span><span style=\"color: #808000; text-decoration-color: #808000\">:null,</span><span style=\"color: #808000; text-decoration-color: #808000\">\"meta\"</span><span style=\"color: #808000; text-decoration-color: #808000\">:null</span><span style=\"color: #808000; text-decoration-color: #808000; font-weight: bold\">}</span>\n",
       "</pre>\n"
      ],
      "text/plain": [
       "\u001b[33m-- Tool output: \u001b[0m\u001b[1;33m{\u001b[0m\u001b[33m\"type\"\u001b[0m\u001b[33m:\u001b[0m\u001b[33m\"text\"\u001b[0m\u001b[33m,\u001b[0m\u001b[33m\"text\"\u001b[0m\u001b[33m:\u001b[0m\u001b[33m\"\u001b[0m\u001b[33m{\u001b[0m\u001b[33m\\n  \\\"document_key\\\": \\\"a037febe42754c718470f24b1e487780\\\",\\n  \\\"markdown\\\": \\\"# Open-Source Agentic AI\\\\n\\\\nOpen-Source Agentic AI is a type of artificial intelligence that is designed to be open-source and accessible to everyone.\\\\n\\\\n* Virtual assistants\\\\n* Chatbots\\\\n* Language translation software\\\"\\n\u001b[0m\u001b[33m}\u001b[0m\u001b[33m\"\u001b[0m\u001b[33m,\u001b[0m\u001b[33m\"annotations\"\u001b[0m\u001b[33m:null,\u001b[0m\u001b[33m\"meta\"\u001b[0m\u001b[33m:null\u001b[0m\u001b[1;33m}\u001b[0m\n"
      ]
     },
     "metadata": {},
     "output_type": "display_data"
    },
    {
     "data": {
      "text/html": [
       "<pre style=\"white-space:pre;overflow-x:auto;line-height:normal;font-family:Menlo,'DejaVu Sans Mono',consolas,'Courier New',monospace\"><span style=\"color: #008000; text-decoration-color: #008000\">🤖 Assistant&gt;</span>\n",
       "</pre>\n"
      ],
      "text/plain": [
       "\u001b[32m🤖 Assistant>\u001b[0m\n"
      ]
     },
     "metadata": {},
     "output_type": "display_data"
    },
    {
     "data": {
      "text/html": [
       "<pre style=\"white-space:pre;overflow-x:auto;line-height:normal;font-family:Menlo,'DejaVu Sans Mono',consolas,'Courier New',monospace\">The final answer is: $\\boxed{# Open-Source Agentic AI Open-Source Agentic AI is a type of artificial intelligence that is designed to be open-source and accessible to everyone.\n",
       "\n",
       "<span style=\"color: #808000; text-decoration-color: #808000; font-weight: bold\"> • </span>Virtual assistants                                                                               \n",
       "<span style=\"color: #808000; text-decoration-color: #808000; font-weight: bold\"> • </span>Chatbots                                                                                         \n",
       "<span style=\"color: #808000; text-decoration-color: #808000; font-weight: bold\"> • </span>Language translation software}$                                                                  \n",
       "</pre>\n"
      ],
      "text/plain": [
       "The final answer is: $\\boxed{# Open-Source Agentic AI Open-Source Agentic AI is a type of artificial intelligence that is designed to be open-source and accessible to everyone.\n",
       "\n",
       "\u001b[1;33m • \u001b[0mVirtual assistants                                                                               \n",
       "\u001b[1;33m • \u001b[0mChatbots                                                                                         \n",
       "\u001b[1;33m • \u001b[0mLanguage translation software}$                                                                  \n"
      ]
     },
     "metadata": {},
     "output_type": "display_data"
    }
   ],
   "source": [
    "await run_agent(\n",
    "    queries=[\n",
    "        \"Create a new Docling document with the title \\\"Open-Source Agentic AI\\\", a paragraph, and a list of the main applications. Show the result in valid markdown.\",\n",
    "    ],\n",
    "    extra_tools=[],\n",
    "    allowed_tools=[\n",
    "        \"create_new_docling_document\",\n",
    "        \"add_title_to_docling_document\",\n",
    "        \"add_section_heading_to_docling_document\",\n",
    "        \"add_paragraph_to_docling_document\",\n",
    "        \"open_list_in_docling_document\",\n",
    "        \"close_list_in_docling_document\",\n",
    "        \"add_list_items_to_list_in_docling_document\",\n",
    "        \"add_table_in_html_format_to_docling_document\",\n",
    "        \"export_docling_document_to_markdown\",\n",
    "    ]\n",
    ")"
   ]
  },
  {
   "cell_type": "markdown",
   "id": "75b707b4",
   "metadata": {},
   "source": [
    "---\n",
    "\n",
    "## Next Steps: Where to Go from Here\n",
    "\n",
    "### Immediate actions\n",
    "\n",
    "1. **Experiment with your documents**\n",
    "   - Try documents with complex layouts\n",
    "   - Test with technical diagrams and charts\n",
    "   - Process multi-page reports with mixed content\n",
    "\n",
    "2. **Connect more agents**\n",
    "   - Try connecting more tools\n",
    "   - Search the documents to ingest via metadata\n",
    "   - Search the web for relevant documents\n",
    "   - Extract information from the documents\n",
    "\n",
    "3. **More ways to interact with tools**\n",
    "   - Use the Llama Stack playground UI for chatting with the agents\n",
    "   - Use other frameworks and ecosystems like Claude Desktop, BeeAI, etc"
   ]
  },
  {
   "cell_type": "markdown",
   "id": "62057f76",
   "metadata": {},
   "source": [
    "---"
   ]
  },
  {
   "cell_type": "markdown",
   "id": "a8ec8b06",
   "metadata": {},
   "source": [
    "## Resources for Continued Learning\n",
    "\n",
    "### Official Documentation\n",
    "- **[Docling Documentation](https://github.com/docling-project/docling)**: Latest features and updates\n",
    "\n",
    "### Community Resources\n",
    "- Join the Docling community on GitHub\n",
    "- Share your implementations\n",
    "- Contribute improvements back to the project\n",
    "\n",
    "### Related Topics to Explore\n",
    "- Document Layout Analysis\n",
    "- Multimodal Embeddings\n",
    "- Visual Question Answering\n",
    "- Explainable AI Systems"
   ]
  },
  {
   "cell_type": "markdown",
   "id": "b49c2c77",
   "metadata": {},
   "source": [
    "---"
   ]
  },
  {
   "cell_type": "markdown",
   "id": "68f8a3b8",
   "metadata": {},
   "source": []
  }
 ],
 "metadata": {
  "kernelspec": {
   "display_name": "techxchange2025-lab3640-docling",
   "language": "python",
   "name": "python3"
  },
  "language_info": {
   "codemirror_mode": {
    "name": "ipython",
    "version": 3
   },
   "file_extension": ".py",
   "mimetype": "text/x-python",
   "name": "python",
   "nbconvert_exporter": "python",
   "pygments_lexer": "ipython3",
   "version": "3.12.9"
  }
 },
 "nbformat": 4,
 "nbformat_minor": 5
}
